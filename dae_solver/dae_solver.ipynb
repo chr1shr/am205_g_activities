{
  "nbformat": 4,
  "nbformat_minor": 0,
  "metadata": {
    "colab": {
      "name": "dae_solver.ipynb",
      "provenance": [],
      "collapsed_sections": [],
      "authorship_tag": "ABX9TyP5aG7v900SyCkJ0L6JJWig",
      "include_colab_link": true
    },
    "kernelspec": {
      "name": "python3",
      "display_name": "Python 3"
    }
  },
  "cells": [
    {
      "cell_type": "markdown",
      "metadata": {
        "id": "view-in-github",
        "colab_type": "text"
      },
      "source": [
        "<a href=\"https://colab.research.google.com/github/chr1shr/am205_g_activities/blob/master/dae_solver/dae_solver.ipynb\" target=\"_parent\"><img src=\"https://colab.research.google.com/assets/colab-badge.svg\" alt=\"Open In Colab\"/></a>"
      ]
    },
    {
      "cell_type": "markdown",
      "metadata": {
        "id": "wTc4zxQ6tygd"
      },
      "source": [
        "# The DAE solver class\n",
        "The code below provides a skeleton for a DAE solver class. When completed, the user should be able to call the method ```integrate```, which integrates the supplied function ```fun``` with jacobian ```jac``` over a specified time range and step size. The solver calls a pseudo-private, internal method ```newton```, which solves a root-finding problem at each integration step. Following the notes from the session, implement the routine for Newton's method to complete the solver."
      ]
    },
    {
      "cell_type": "code",
      "metadata": {
        "id": "i3PUFvDJtsc3"
      },
      "source": [
        "%matplotlib inline\n",
        "import numpy as np\n",
        "import matplotlib.pyplot as plt\n",
        "\n",
        "class dae_solver(object):\n",
        "    def __init__(self):\n",
        "        ''' Constructor for the general-purpose DAE solver using the BDF method.'''\n",
        "        # Backward differentiation formula coefficients.\n",
        "        self.a = [[-1.],                        # 1st order\n",
        "                  [1./3, -4./3],                # 2nd order\n",
        "                  [-2./11, 9./11, -18./11]]     # 3rd order           \n",
        "        self.b = [1., 2./3, 6./11]\n",
        "\n",
        "    def integrate(self, m, n, fun, jac, yi, ti, tf, dt):\n",
        "        ''' Routine to run DAE integration.\n",
        "            m,n - the number of differential and algebraic degrees of freedom, respectively.\n",
        "            fun, jac - the system of equations to integrate, and its jacobian.\n",
        "            yi - the initial condition.\n",
        "            ti, tf - initial and final integration times.\n",
        "            dt - the step size to use.\n",
        "        '''\n",
        "        \n",
        "        # Save the number of differential and algebraic variables as class attributes.\n",
        "        self.m = m\n",
        "        self.n = n\n",
        "\n",
        "        # Compute number of integration steps to pre-allocate memory for the solution output:\n",
        "        nsteps = int(np.round((tf-ti)/dt))+1\n",
        "        t = np.zeros(nsteps)\n",
        "        sol = np.zeros((nsteps, m+n))\n",
        "        \n",
        "        # Set initial condition.\n",
        "        sol[0] = yi\n",
        "\n",
        "        # First step: 1st order BDF\n",
        "        sol[1] = self.__newton(1, fun, jac, ti+dt, dt, sol[0], sol[0:1])\n",
        "        t[1] = ti + dt\n",
        "\n",
        "        # Second step: 2nd order BDF\n",
        "        sol[2] = self.__newton(2, fun, jac, ti+2*dt, dt, sol[1], sol[0:2])\n",
        "        t[2] = ti + 2*dt\n",
        "\n",
        "        # Resume with 3rd order BDF\n",
        "        k = 2\n",
        "        while ti + (k+1)*dt <= tf:\n",
        "            sol[k+1] = self.__newton(3, fun, jac, ti+(k+1)*dt, dt, sol[k], sol[k-2:k+1])\n",
        "            t[k+1] = ti + (k+1)*dt\n",
        "            k += 1\n",
        "\n",
        "        return t, sol\n",
        "\n",
        "    # Double underscore declares a \"pseudo-private\" method,\n",
        "    # accessible only within the DAE solver class.\n",
        "    def __newton(self, p, fun, jac, t, dt, yi, ypre, tol=1.0e-14, maxiter=100):\n",
        "        '''Newton's method for nonlinear root-finding.\n",
        "           p - the order of method to use.\n",
        "           fun - the function whose root to find, with signature fun(t,y).\n",
        "           jac - the Jacobian of fun, with signature jac(t,y).\n",
        "           t - the integration time to solve for.\n",
        "           dt - the integration step size.\n",
        "           yi - initial guess for solution vector.\n",
        "           ypre - the previous solutions needed for the multistep method. \n",
        "           tol - stopping tolerance for residual.\n",
        "           maxiter - maximum number of iterations allowed for convergence.\n",
        "        '''\n",
        "        # Define some shorthands for class variables:\n",
        "        m = self.m # number of differential equations\n",
        "        n = self.n # number of algebraic equations\n",
        "        # BDF coefficients for order p\n",
        "        alpha = np.array(self.a[p-1]) \n",
        "        beta = self.b[p-1]\n",
        "\n",
        "        # your code here #\n",
        "        "
      ],
      "execution_count": null,
      "outputs": []
    },
    {
      "cell_type": "markdown",
      "metadata": {
        "id": "Ho-sxVwhv87d"
      },
      "source": [
        "# Test problem: The simple pendulum\n",
        "\n",
        "Test your DAE solver class by integrating the differential-algebraic system of equations for the simple pendulum, defined below:"
      ]
    },
    {
      "cell_type": "code",
      "metadata": {
        "id": "HYysloo-wHNp"
      },
      "source": [
        "# gravitational constant\n",
        "g = 9.80665\n",
        "\n",
        "# simple pendulum DAE\n",
        "def dae_fun(t, q):\n",
        "    x, y, u, v, l = q[0], q[1], q[2], q[3], q[4]\n",
        "    f = np.array([u,\n",
        "                  v,\n",
        "                  -l*x,\n",
        "                  -(l*y + g),\n",
        "                  x*x + y*y - 1])\n",
        "    return f\n",
        "\n",
        "def dae_jac(t, q):\n",
        "    x, y, u, v, l = q[0], q[1], q[2], q[3], q[4]\n",
        "    j = np.array([[  0,   0,   1,   0,   0 ],\n",
        "                  [  0,   0,   0,   1,   0 ],\n",
        "                  [ -l,   0,   0,   0,   -x],\n",
        "                  [  0,  -l,   0,   0,   -y],\n",
        "                  [ 2*x, 2*y,  0,   0,    0]])\n",
        "    return j"
      ],
      "execution_count": null,
      "outputs": []
    },
    {
      "cell_type": "markdown",
      "metadata": {
        "id": "Jo4oBT7swSIz"
      },
      "source": [
        "Integrate the simple pendulum on $t=[0,10]$ with step size $h=10^{-3}$, with the following initial conditions:\n",
        "\n",
        "$$\n",
        "\\begin{align}\n",
        "\\theta &= \\pi/4 \\\\\n",
        "x &= \\sin\\theta \\\\\n",
        "y &= -\\cos\\theta \\\\\n",
        "u &= v = 0 \\\\\n",
        "\\lambda &= g\\cos\\theta\n",
        "\\end{align}\n",
        "$$\n",
        "Here, $\\lambda$ has been determined consistently using the last hidden constraint shown in class."
      ]
    },
    {
      "cell_type": "code",
      "metadata": {
        "id": "InTB0MZwwPH1"
      },
      "source": [
        "# Set consistent initial conditions.\n",
        "theta = np.pi/4.\n",
        "x = np.sin(theta)\n",
        "y = -np.cos(theta)\n",
        "u = 0.; v = 0.\n",
        "lam = g*np.cos(theta)\n",
        "q0 = np.array([x, y, u, v, lam])\n",
        "\n",
        "# Create an instance of the DAE solver class.\n",
        "solver = dae_solver()\n",
        "\n",
        "# Call the integrate method.\n",
        "ndiff = 4; nalg = 1\n",
        "t, sol = solver.integrate(ndiff, nalg, dae_fun, dae_jac, q0, 0., 10., 1e-3)\n",
        "\n",
        "# Plot the variables as a function of t (columns of the array sol).\n",
        "\n",
        "# your code here"
      ],
      "execution_count": null,
      "outputs": []
    },
    {
      "cell_type": "markdown",
      "metadata": {
        "id": "8Z_XkYvD52hq"
      },
      "source": [
        "You can optionally view a movie of the pendulum by using the provided script ```animate.py``` from the [AM 205 group activities Github page](https://github.com/chr1shr/am205_g_activities/tree/master/dae_solver). The following cell block imports the method ```animate_simple_pendulum``` which takes the ```sol``` array as an argument, and combines frames into a movie. To run the code below, make sure you have the script ```animate.py``` saved locally on your computer; you will be prompted to select it as a file to upload. **Running this may take a few minutes.**"
      ]
    },
    {
      "cell_type": "code",
      "metadata": {
        "id": "Fr7PMWzJ6JuJ"
      },
      "source": [
        "# download animate.py from repo to computer first, then run cell to upload animate.py\n",
        "from google.colab import files\n",
        "files.upload()\n",
        "\n",
        "from animate import animate_simple_pendulum\n",
        "from IPython.display import HTML\n",
        "\n",
        "ani = animate_simple_pendulum(sol[::10])\n",
        "HTML(ani.to_html5_video())"
      ],
      "execution_count": null,
      "outputs": []
    },
    {
      "cell_type": "markdown",
      "metadata": {
        "id": "zJcvNxxiYLPi"
      },
      "source": [
        "**Optional:** In the function and Jacobian for the simple pendulum, replace the algebraic constraint on length (index 3 formulation) with either the index 2 or index 1 constraint formulations. Integrate the DAE and plot the three constrained quantities. Do you see evidence of higher fluctuation or drift in the constraints that are not explicitly enforced?"
      ]
    }
  ]
}