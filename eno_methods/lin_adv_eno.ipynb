{
  "nbformat": 4,
  "nbformat_minor": 0,
  "metadata": {
    "colab": {
      "name": "lin_adv_eno.ipynb",
      "provenance": [],
      "collapsed_sections": [],
      "toc_visible": true,
      "authorship_tag": "ABX9TyOSTvQ9Ze3NV6LJK3qYSo75",
      "include_colab_link": true
    },
    "kernelspec": {
      "name": "python3",
      "display_name": "Python 3"
    }
  },
  "cells": [
    {
      "cell_type": "markdown",
      "metadata": {
        "id": "view-in-github",
        "colab_type": "text"
      },
      "source": [
        "<a href=\"https://colab.research.google.com/github/chr1shr/am205_g_activities/blob/master/eno_methods/lin_adv_eno.ipynb\" target=\"_parent\"><img src=\"https://colab.research.google.com/assets/colab-badge.svg\" alt=\"Open In Colab\"/></a>"
      ]
    },
    {
      "cell_type": "markdown",
      "metadata": {
        "id": "wTc4zxQ6tygd"
      },
      "source": [
        "# Linear advection using ENO\n",
        "\n",
        "In this exercise, we will implement the linear advection example with step function initial condition using the ENO method."
      ]
    },
    {
      "cell_type": "code",
      "metadata": {
        "id": "i3PUFvDJtsc3"
      },
      "source": [
        "%matplotlib inline\n",
        "import numpy as np\n",
        "from math import *\n",
        "import matplotlib.pyplot as plt"
      ],
      "execution_count": null,
      "outputs": []
    },
    {
      "cell_type": "markdown",
      "metadata": {
        "id": "NwWaRk6oPz74"
      },
      "source": [
        "With your group, complete the following function ```eno``` which takes as its input the five values of density $U_{j-2}$, $U_{j-1}$, $U_j$, $U_{j+1}$, $U_{j+2}$ from which the three candidate interpolants $U^{(0)}_{j+1/2}$, $U^{(1)}_{j+1/2}$, $U^{(2)}_{j+1/2}$ may be constructed. Calculate $\\beta^{(k)}$ for each candidate and select the $U^{(k)}_{j+1/2}$ with the smallest $\\beta^{(k)}$ to return."
      ]
    },
    {
      "cell_type": "code",
      "metadata": {
        "id": "p9pYJdkyhgX5"
      },
      "source": [
        "def eno(um2,um1,u,up1,up2):\n",
        "    us = np.array([um2,um1,u,up1,up2])\n",
        "    '''us - the set of 5 values at [j-2,j-1,j,j+1,j+2] of the density\n",
        "       from which to construct the interpolated value at j+1/2.\n",
        "       Complete the function eno, which should compute the sharpness\n",
        "       factor of each of the three possible stencils from these five\n",
        "       points, choose the scheme with the lowest sharpness, and output\n",
        "       the interpolated value u_j+1/2.\n",
        "    '''\n",
        "    # your code here"
      ],
      "execution_count": null,
      "outputs": []
    },
    {
      "cell_type": "markdown",
      "metadata": {
        "id": "9JZg0QwcQLkR"
      },
      "source": [
        "Below, we set up the linear, hyperbolic PDE problem:\n",
        "\n",
        "$$u_t + cu_x = 0 $$\n",
        "\n",
        "which describes the motion of a wave $u(x,t)$ with constant speed $c>0$. The initial condition of the wave is given by the sigmoid function\n",
        "\n",
        "$$ u(x,0) = \\frac{1}{1+e^{-kx}} $$\n",
        "for some sharpness $k$."
      ]
    },
    {
      "cell_type": "code",
      "metadata": {
        "id": "iGSPYKkgiYc8"
      },
      "source": [
        "# Grid size\n",
        "m=201\n",
        "# Pad by 6 ghost nodes: three on left, three on right. \n",
        "# For c>0 only one set is used, but we can maintain a\n",
        "# more general implementation here. Also, we will take\n",
        "# advantage of Python's negative indexing and put all 6\n",
        "# ghost nodes at the end of the interval, so the indexing\n",
        "# across the array will go\n",
        "# 0,   1,   ...,   j,   ...,   m-1,   m,   m+1,   m+2,   -3,   -2,   -1.\n",
        "#|_________domain [-1,1]___________||___right ghost___||___left ghost __|\n",
        "mp6=m+6\n",
        "\n",
        "# PDE-related constants.\n",
        "c=1.\n",
        "dx=2.0/(m-1)\n",
        "dt=0.001\n",
        "nu=c*dt/dx\n",
        "T=1. # final simulation time\n",
        "snaps=100 # number of snapshots to output (excluding t=0)\n",
        "iters=int(T/dt)//snaps # iterations to perform between snapshots\n",
        "\n",
        "u=np.empty(mp6) # memory for the current step\n",
        "u1=np.empty(mp6) # memory for the next step\n",
        "us=np.empty((m,snaps+1)) # memory for all snapshots\n",
        "\n",
        "# Initial condition\n",
        "k=100\n",
        "for j in range(-3,m+3,1): # include ghost nodes\n",
        "    x=-1+dx*j\n",
        "    u[j]= 1./(1+np.exp(-k*x))\n",
        "\n",
        "u1=np.copy(u)\n",
        "us[:,0]=u[:m]"
      ],
      "execution_count": null,
      "outputs": []
    },
    {
      "cell_type": "markdown",
      "metadata": {
        "id": "ZjsHhHkVRWK7"
      },
      "source": [
        "Below, we loop over the number of snapshots, taking ```iters``` number of steps of size $dt$ between each snapshot. At each iteration, we loop over each cell and compute the finite difference update based on the ENO method."
      ]
    },
    {
      "cell_type": "code",
      "metadata": {
        "id": "GrcCYFo2irB5"
      },
      "source": [
        "# Integrate the PDE\n",
        "for i in range(1,snaps+1):\n",
        "    for k in range(iters):\n",
        "        for j in range(m):\n",
        "              ur=eno(u[j-2],u[j-1],u[j],u[j+1],u[j+2]) # u_j+1/2\n",
        "              ul=eno(u[j-3],u[j-2],u[j-1],u[j],u[j+1]) # u_j-1/2\n",
        "              u1[j]=u[j]-nu*(ur-ul)\n",
        "        u=np.copy(u1)\n",
        "    us[:,i]=u[:m]"
      ],
      "execution_count": null,
      "outputs": []
    },
    {
      "cell_type": "markdown",
      "metadata": {
        "id": "mI3F7rcyRwI1"
      },
      "source": [
        "The following code cell defines a set of helper functions that allow us to visualize the propagation of the wave as an animation."
      ]
    },
    {
      "cell_type": "code",
      "metadata": {
        "id": "EH5fjDO_mfS1"
      },
      "source": [
        "import matplotlib.animation as animation\n",
        "\n",
        "# plot the wave\n",
        "def plot_wave(x, y, ax):\n",
        "      line, = ax.plot(x,y,color='C0')\n",
        "      return line\n",
        "    \n",
        "def update_line(line,x,y):\n",
        "      line.set_data(x,y)\n",
        "\n",
        "def animate_wave(x,z):\n",
        "    # each column of z represents a frame.\n",
        "    # initialize plot \n",
        "    fig, ax = plt.subplots(1,1,figsize=(12,4))\n",
        "    ax.plot(x,z[:,0],linestyle='dashed',color='C0') # initial state.\n",
        "    line = plot_wave(x,z[:,0],ax)\n",
        "    ax.set_xlim(-1,1); ax.set_ylim(-0.1,1.1)\n",
        "    ax.set_xlabel('x'); ax.set_ylabel('u')\n",
        "\n",
        "    def animate(i):\n",
        "        '''Plot updates for animation.'''\n",
        "        fr = i\n",
        "        update_line(line,x,z[:,i])\n",
        "        return line,\n",
        "\n",
        "    ani = animation.FuncAnimation(fig, animate, frames=z.shape[1], interval=100, blit=True)\n",
        "    plt.close(fig)\n",
        "    return ani"
      ],
      "execution_count": null,
      "outputs": []
    },
    {
      "cell_type": "markdown",
      "metadata": {
        "id": "ej72kTutR4NV"
      },
      "source": [
        "Animate the wave:"
      ]
    },
    {
      "cell_type": "code",
      "metadata": {
        "id": "f0tbo_y-miOj"
      },
      "source": [
        "from IPython.display import HTML\n",
        "\n",
        "x=np.linspace(-1,1,m)\n",
        "ani = animate_wave(x,us)\n",
        "HTML(ani.to_html5_video())"
      ],
      "execution_count": null,
      "outputs": []
    }
  ]
}