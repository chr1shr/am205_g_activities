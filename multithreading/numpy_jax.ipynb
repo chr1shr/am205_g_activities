{
  "nbformat": 4,
  "nbformat_minor": 0,
  "metadata": {
    "colab": {
      "name": "numpy_jax.ipynb",
      "provenance": [],
      "collapsed_sections": [],
      "authorship_tag": "ABX9TyOyqwIoaqV83Q6VW5bG7IcH",
      "include_colab_link": true
    },
    "kernelspec": {
      "name": "python3",
      "display_name": "Python 3"
    },
    "language_info": {
      "name": "python"
    },
    "accelerator": "GPU"
  },
  "cells": [
    {
      "cell_type": "markdown",
      "metadata": {
        "id": "view-in-github",
        "colab_type": "text"
      },
      "source": [
        "<a href=\"https://colab.research.google.com/github/chr1shr/am205_g_activities/blob/master/multithreading/numpy_jax.ipynb\" target=\"_parent\"><img src=\"https://colab.research.google.com/assets/colab-badge.svg\" alt=\"Open In Colab\"/></a>"
      ]
    },
    {
      "cell_type": "markdown",
      "metadata": {
        "id": "tRjK2K2ImhPl"
      },
      "source": [
        "This notebook is supplementary to the AM205 \"Introduction to multithreading\" workshop. It covers the basics of how to use ```NumPy``` and ```JAX```.\n",
        "\n",
        "Notebook reference: https://jax.readthedocs.io/en/latest/notebooks/quickstart.html\n",
        "\n",
        "```JAX``` can be think of as an upgraded ```NumPy``` with automatic differentiation which runs on CPU, GPU and TPU. In the workshop we only covered multithreading on CPU and focused on one parallelization paradigm only (shared memory). If you are interested in making your Python code faster while doing machine learning related projects, then ```JAX``` may be a suitable candidate.\n",
        "\n",
        "In the spirit of time, the notebook will not be able to go any deeper into the library or demonstrate all useful functions. If you are interested, you can read more about ```JAX``` starting from these (much better) references:\n",
        "\n",
        "- Tutorial: JAX 101 https://jax.readthedocs.io/en/latest/jax-101/index.html\n",
        "- You don't know JAX: https://colinraffel.com/blog/you-don-t-know-jax.html\n",
        "- Introduction to JAX: https://www.youtube.com/watch?v=0mVmRHMaOJ4\n"
      ]
    },
    {
      "cell_type": "markdown",
      "metadata": {
        "id": "HwiiROOvBfRz"
      },
      "source": [
        "## Load modules"
      ]
    },
    {
      "cell_type": "code",
      "metadata": {
        "id": "aHMBUn_x9llU"
      },
      "source": [
        "import numpy as np\n",
        "import jax.numpy as jnp\n",
        "from jax import grad,jit,pmap,vmap\n",
        "from jax import random\n",
        "import matplotlib.pyplot as plt\n",
        "%matplotlib inline "
      ],
      "execution_count": 1,
      "outputs": []
    },
    {
      "cell_type": "markdown",
      "metadata": {
        "id": "BdRA2pmxBP9n"
      },
      "source": [
        "## What do we mean by vectorization in ```NumPy```?\n",
        "Writing your Python code in a vectorized fashion can greatly speed up your computation. It is very useful in numerically solving differential equations (Unit 3). If you find yourself are changing matrix/array values by specifying the indices (like i,j), then you may want to use some vectorized library functions instead."
      ]
    },
    {
      "cell_type": "code",
      "metadata": {
        "id": "6y0-SrciJn51"
      },
      "source": [
        "# Example: matrix addition\n",
        "mat_a=np.ones((100,100))\n",
        "mat_b=4.*np.ones((100,100))\n",
        "\n",
        "# This is not vectorization\n",
        "def not_vectorization_1(mat_a,mat_b):\n",
        "  for i in range(100):\n",
        "    for j in range(100):\n",
        "      mat_a[j,i]+mat_b[j,i]\n",
        "\n",
        "# Tihs is vectorizationn\n",
        "def vectorization_1(mat_a,mat_b):\n",
        "  mat_a+mat_b"
      ],
      "execution_count": 2,
      "outputs": []
    },
    {
      "cell_type": "code",
      "metadata": {
        "colab": {
          "base_uri": "https://localhost:8080/"
        },
        "id": "sL6TP4SB-3yu",
        "outputId": "7e523fd3-6d53-4843-a812-aa72fff7a3f9"
      },
      "source": [
        "%timeit not_vectorization_1(mat_a,mat_b)"
      ],
      "execution_count": 3,
      "outputs": [
        {
          "output_type": "stream",
          "name": "stdout",
          "text": [
            "100 loops, best of 5: 5.03 ms per loop\n"
          ]
        }
      ]
    },
    {
      "cell_type": "code",
      "metadata": {
        "colab": {
          "base_uri": "https://localhost:8080/"
        },
        "id": "e_TbzrHb_HLE",
        "outputId": "401cd0bf-bd66-4c00-bda3-18d4cca2d913"
      },
      "source": [
        "%timeit vectorization_1(mat_a,mat_b)"
      ],
      "execution_count": 4,
      "outputs": [
        {
          "output_type": "stream",
          "name": "stdout",
          "text": [
            "The slowest run took 10.66 times longer than the fastest. This could mean that an intermediate result is being cached.\n",
            "100000 loops, best of 5: 6.86 µs per loop\n"
          ]
        }
      ]
    },
    {
      "cell_type": "code",
      "metadata": {
        "id": "K-jP8H0Z_0R0"
      },
      "source": [
        "# Example 2: fill the inside of a matrix\n",
        "def not_vectorization_2():\n",
        "  mat=np.zeros((100,100))\n",
        "  for i in range(100):\n",
        "    for j in range(100):\n",
        "      if i>25 and i<75:\n",
        "        if j>25 and j<75:\n",
        "          mat[j,i]=1\n",
        "  return mat\n",
        "\n",
        "def vectorization_2():\n",
        "  mat=np.zeros((100,100))\n",
        "  mat[25:75,25:75]=1\n",
        "  return mat"
      ],
      "execution_count": 5,
      "outputs": []
    },
    {
      "cell_type": "code",
      "metadata": {
        "colab": {
          "base_uri": "https://localhost:8080/"
        },
        "id": "bDITFEAgA7mu",
        "outputId": "f7e746dc-0eb2-4e69-ed6c-828a2e08104b"
      },
      "source": [
        "%timeit mat_nv=not_vectorization_2()"
      ],
      "execution_count": 6,
      "outputs": [
        {
          "output_type": "stream",
          "name": "stdout",
          "text": [
            "1000 loops, best of 5: 1.2 ms per loop\n"
          ]
        }
      ]
    },
    {
      "cell_type": "code",
      "metadata": {
        "colab": {
          "base_uri": "https://localhost:8080/"
        },
        "id": "sipyEMu9A__q",
        "outputId": "ed2b1b1b-f958-49d8-9d08-468d18299dd4"
      },
      "source": [
        "%timeit mat_v=vectorization_2()"
      ],
      "execution_count": 7,
      "outputs": [
        {
          "output_type": "stream",
          "name": "stdout",
          "text": [
            "The slowest run took 39.40 times longer than the fastest. This could mean that an intermediate result is being cached.\n",
            "100000 loops, best of 5: 6.06 µs per loop\n"
          ]
        }
      ]
    },
    {
      "cell_type": "code",
      "metadata": {
        "colab": {
          "base_uri": "https://localhost:8080/",
          "height": 524
        },
        "id": "o-SkFj58BKsL",
        "outputId": "1a1af1d2-4f6d-4311-8466-a4a33576e717"
      },
      "source": [
        "# plt.spy() allows you to quickly plot a matrix\n",
        "plt.figure(figsize=(8,8))\n",
        "plt.spy(vectorization_2())\n",
        "plt.title(\"Fill the inside of a matrix\")\n",
        "# No need to add plt.show() because we enabled plot inline"
      ],
      "execution_count": 8,
      "outputs": [
        {
          "output_type": "execute_result",
          "data": {
            "text/plain": [
              "Text(0.5, 1.05, 'Fill the inside of a matrix')"
            ]
          },
          "metadata": {},
          "execution_count": 8
        },
        {
          "output_type": "display_data",
          "data": {
            "image/png": "[encoded data removed]",
            "text/plain": [
              "<Figure size 576x576 with 1 Axes>"
            ]
          },
          "metadata": {
            "needs_background": "light"
          }
        }
      ]
    },
    {
      "cell_type": "markdown",
      "metadata": {
        "id": "dSPJSrNhniOM"
      },
      "source": [
        "## Matrix multiplication\n",
        "\n",
        "According to the documentation, there are some differences in generating random numbers between the two libraries. For more details, see [Common Gotchas in JAX](https://jax.readthedocs.io/en/latest/notebooks/Common_Gotchas_in_JAX.html#%F0%9F%94%AA-Random-Numbers).\n"
      ]
    },
    {
      "cell_type": "code",
      "metadata": {
        "colab": {
          "base_uri": "https://localhost:8080/"
        },
        "id": "eIWGdVCbm_EH",
        "outputId": "8b0cc64c-6693-4a00-9497-4e4521844f83"
      },
      "source": [
        "# Ex.1 JAX random+dot\n",
        "jseed=random.PRNGKey(0)\n",
        "size=1000\n",
        "jmat=random.normal(jseed,(size,size),dtype=jnp.float32)\n",
        "# Add block_until_ready() because JAX uses asynchronous execution by default\n",
        "# You can use GPU/TPU by changing the runtime type in\n",
        "# \"Runtime > Change runtime type > Hardware accelerator\"\n",
        "%timeit jnp.dot(jmat,jmat.T).block_until_ready() # runs on the GPU"
      ],
      "execution_count": 9,
      "outputs": [
        {
          "output_type": "stream",
          "name": "stdout",
          "text": [
            "The slowest run took 175.71 times longer than the fastest. This could mean that an intermediate result is being cached.\n",
            "1 loop, best of 5: 1.79 ms per loop\n"
          ]
        }
      ]
    },
    {
      "cell_type": "code",
      "metadata": {
        "colab": {
          "base_uri": "https://localhost:8080/"
        },
        "id": "p0UoAHleG5Zu",
        "outputId": "6aea1fad-1b0c-401a-c810-144c2758df23"
      },
      "source": [
        "# Ex.2 NumPy random+dot\n",
        "nseed=np.random.seed(0)\n",
        "size=1000\n",
        "nmat= np.random.normal(size=(size, size)).astype(np.float32)\n",
        "%timeit np.dot(nmat,nmat.T)"
      ],
      "execution_count": 10,
      "outputs": [
        {
          "output_type": "stream",
          "name": "stdout",
          "text": [
            "10 loops, best of 5: 19.9 ms per loop\n"
          ]
        }
      ]
    },
    {
      "cell_type": "code",
      "metadata": {
        "colab": {
          "base_uri": "https://localhost:8080/"
        },
        "id": "xaZzYRLwHj9l",
        "outputId": "8e106047-d0f8-4b77-a91f-61760354c11d"
      },
      "source": [
        "# Ex.3 NumPy random+JAX dot\n",
        "%timeit jnp.dot(nmat,nmat.T).block_until_ready()"
      ],
      "execution_count": 11,
      "outputs": [
        {
          "output_type": "stream",
          "name": "stdout",
          "text": [
            "100 loops, best of 5: 5.21 ms per loop\n"
          ]
        }
      ]
    },
    {
      "cell_type": "markdown",
      "metadata": {
        "id": "v4WcZFkyoEia"
      },
      "source": [
        "## Four main functions for faster performance\n",
        "- ```jit()```, for speeding up your code\n",
        "\n",
        "- ```grad()```, for taking derivatives\n",
        "\n",
        "- ```pmap()```, for running functions in parallel on multiple devices\n",
        "\n",
        "- ```vmap()```, for automatic vectorization or batching\n"
      ]
    },
    {
      "cell_type": "markdown",
      "metadata": {
        "id": "ApqE6H7xwC6g"
      },
      "source": [
        "### ```jit()``` for speeding up your code\n",
        "...however, you don't want to just-in-time compile all your function, please refer to the [documentation](https://jax.readthedocs.io/en/latest/jax-101/02-jitting.html) about when to use ```jit```\n",
        "\n",
        "(A sidenote, ```jit()``` is not unique to ```JAX```; you can also find it on modules like ```Numba```)"
      ]
    },
    {
      "cell_type": "code",
      "metadata": {
        "colab": {
          "base_uri": "https://localhost:8080/"
        },
        "id": "WlDA5cPCv5j1",
        "outputId": "db61e1ca-ce16-464b-e3f6-db3bd6affbec"
      },
      "source": [
        "# Revisit example 2: fill the inside of a matrix\n",
        "%timeit mat_nv=not_vectorization_2()"
      ],
      "execution_count": 12,
      "outputs": [
        {
          "output_type": "stream",
          "name": "stdout",
          "text": [
            "1000 loops, best of 5: 1.2 ms per loop\n"
          ]
        }
      ]
    },
    {
      "cell_type": "code",
      "metadata": {
        "id": "KOFpzc1znt1V"
      },
      "source": [
        "# Revisit example 2: fill the inside of a matrix\n",
        "@jit\n",
        "def not_vectorization_2_jit():\n",
        "  mat=np.zeros((100,100))\n",
        "  for i in range(100):\n",
        "    for j in range(100):\n",
        "      if i>25 and i<75:\n",
        "        if j>25 and j<75:\n",
        "          mat[j,i]=1\n",
        "  return mat"
      ],
      "execution_count": 13,
      "outputs": []
    },
    {
      "cell_type": "code",
      "metadata": {
        "colab": {
          "base_uri": "https://localhost:8080/"
        },
        "id": "XLwmq_LpxJVs",
        "outputId": "1b9dcd1b-7f5f-4f16-b2fb-c64376827462"
      },
      "source": [
        "%timeit mat_nvj=not_vectorization_2_jit()"
      ],
      "execution_count": 14,
      "outputs": [
        {
          "output_type": "stream",
          "name": "stdout",
          "text": [
            "The slowest run took 8.45 times longer than the fastest. This could mean that an intermediate result is being cached.\n",
            "1000 loops, best of 5: 332 µs per loop\n"
          ]
        }
      ]
    },
    {
      "cell_type": "markdown",
      "metadata": {
        "id": "KxUa9mvEsdQJ"
      },
      "source": [
        "### ```grad()``` for taking derivatives\n",
        "\n",
        "...whenever we want to speed up autograd and compute derivatives (_e.g._ activation function in training of some ML problems)"
      ]
    },
    {
      "cell_type": "code",
      "metadata": {
        "colab": {
          "base_uri": "https://localhost:8080/"
        },
        "id": "7gzql5uMnt5Q",
        "outputId": "710fe6fe-6b0b-480b-dbd7-a12b594688c0"
      },
      "source": [
        "# A simple example of derivatives\n",
        "# e.g. f(x)=x^4+3x^2+x*exp(x)+log(x)\n",
        "def f(x):\n",
        "    return x**4+3*x**2+x*jnp.exp(x)+jnp.log(x)\n",
        "\n",
        "df1=grad(f)\n",
        "df1"
      ],
      "execution_count": 15,
      "outputs": [
        {
          "output_type": "execute_result",
          "data": {
            "text/plain": [
              "<function __main__.f>"
            ]
          },
          "metadata": {},
          "execution_count": 15
        }
      ]
    },
    {
      "cell_type": "code",
      "metadata": {
        "colab": {
          "base_uri": "https://localhost:8080/"
        },
        "id": "ZXiIyyb7nt7W",
        "outputId": "ceddb45c-28fe-43a0-eb77-0fd3439e20d1"
      },
      "source": [
        "# You can get the value of the 1st derivative by putting in x values\n",
        "df1(1.0)"
      ],
      "execution_count": 16,
      "outputs": [
        {
          "output_type": "execute_result",
          "data": {
            "text/plain": [
              "DeviceArray(16.436563, dtype=float32)"
            ]
          },
          "metadata": {},
          "execution_count": 16
        }
      ]
    },
    {
      "cell_type": "code",
      "metadata": {
        "id": "DeXcHNcJ-xJ4",
        "colab": {
          "base_uri": "https://localhost:8080/"
        },
        "outputId": "79dbd449-9a11-4b16-af31-ef1f09a913d4"
      },
      "source": [
        "# You can just get the value by using float()\n",
        "float(df1(1.0))"
      ],
      "execution_count": 17,
      "outputs": [
        {
          "output_type": "execute_result",
          "data": {
            "text/plain": [
              "16.43656349182129"
            ]
          },
          "metadata": {},
          "execution_count": 17
        }
      ]
    },
    {
      "cell_type": "code",
      "metadata": {
        "colab": {
          "base_uri": "https://localhost:8080/",
          "height": 528
        },
        "id": "cKI_5oPvtWJl",
        "outputId": "f4a019d6-1b4d-4fc3-e913-b44cfae8b3d3"
      },
      "source": [
        "# However, integer numbers do not work\n",
        "# For integers, you have to make them into floats\n",
        "# Or else you will get a TypeError\n",
        "df1(1)"
      ],
      "execution_count": 18,
      "outputs": [
        {
          "output_type": "error",
          "ename": "TypeError",
          "evalue": "ignored",
          "traceback": [
            "\u001b[0;31m---------------------------------------------------------------------------\u001b[0m",
            "\u001b[0;31mUnfilteredStackTrace\u001b[0m                      Traceback (most recent call last)",
            "\u001b[0;32m<ipython-input-18-c44ed6cff89c>\u001b[0m in \u001b[0;36m<module>\u001b[0;34m()\u001b[0m\n\u001b[1;32m      3\u001b[0m \u001b[0;31m# Or else you will get a TypeError\u001b[0m\u001b[0;34m\u001b[0m\u001b[0;34m\u001b[0m\u001b[0;34m\u001b[0m\u001b[0m\n\u001b[0;32m----> 4\u001b[0;31m \u001b[0mdf1\u001b[0m\u001b[0;34m(\u001b[0m\u001b[0;36m1\u001b[0m\u001b[0;34m)\u001b[0m\u001b[0;34m\u001b[0m\u001b[0;34m\u001b[0m\u001b[0m\n\u001b[0m",
            "\u001b[0;32m/usr/local/lib/python3.7/dist-packages/jax/_src/traceback_util.py\u001b[0m in \u001b[0;36mreraise_with_filtered_traceback\u001b[0;34m(*args, **kwargs)\u001b[0m\n\u001b[1;32m    161\u001b[0m     \u001b[0;32mtry\u001b[0m\u001b[0;34m:\u001b[0m\u001b[0;34m\u001b[0m\u001b[0;34m\u001b[0m\u001b[0m\n\u001b[0;32m--> 162\u001b[0;31m       \u001b[0;32mreturn\u001b[0m \u001b[0mfun\u001b[0m\u001b[0;34m(\u001b[0m\u001b[0;34m*\u001b[0m\u001b[0margs\u001b[0m\u001b[0;34m,\u001b[0m \u001b[0;34m**\u001b[0m\u001b[0mkwargs\u001b[0m\u001b[0;34m)\u001b[0m\u001b[0;34m\u001b[0m\u001b[0;34m\u001b[0m\u001b[0m\n\u001b[0m\u001b[1;32m    163\u001b[0m     \u001b[0;32mexcept\u001b[0m \u001b[0mException\u001b[0m \u001b[0;32mas\u001b[0m \u001b[0me\u001b[0m\u001b[0;34m:\u001b[0m\u001b[0;34m\u001b[0m\u001b[0;34m\u001b[0m\u001b[0m\n",
            "\u001b[0;32m/usr/local/lib/python3.7/dist-packages/jax/_src/api.py\u001b[0m in \u001b[0;36mgrad_f\u001b[0;34m(*args, **kwargs)\u001b[0m\n\u001b[1;32m    796\u001b[0m   \u001b[0;32mdef\u001b[0m \u001b[0mgrad_f\u001b[0m\u001b[0;34m(\u001b[0m\u001b[0;34m*\u001b[0m\u001b[0margs\u001b[0m\u001b[0;34m,\u001b[0m \u001b[0;34m**\u001b[0m\u001b[0mkwargs\u001b[0m\u001b[0;34m)\u001b[0m\u001b[0;34m:\u001b[0m\u001b[0;34m\u001b[0m\u001b[0;34m\u001b[0m\u001b[0m\n\u001b[0;32m--> 797\u001b[0;31m     \u001b[0m_\u001b[0m\u001b[0;34m,\u001b[0m \u001b[0mg\u001b[0m \u001b[0;34m=\u001b[0m \u001b[0mvalue_and_grad_f\u001b[0m\u001b[0;34m(\u001b[0m\u001b[0;34m*\u001b[0m\u001b[0margs\u001b[0m\u001b[0;34m,\u001b[0m \u001b[0;34m**\u001b[0m\u001b[0mkwargs\u001b[0m\u001b[0;34m)\u001b[0m\u001b[0;34m\u001b[0m\u001b[0;34m\u001b[0m\u001b[0m\n\u001b[0m\u001b[1;32m    798\u001b[0m     \u001b[0;32mreturn\u001b[0m \u001b[0mg\u001b[0m\u001b[0;34m\u001b[0m\u001b[0;34m\u001b[0m\u001b[0m\n",
            "\u001b[0;32m/usr/local/lib/python3.7/dist-packages/jax/_src/traceback_util.py\u001b[0m in \u001b[0;36mreraise_with_filtered_traceback\u001b[0;34m(*args, **kwargs)\u001b[0m\n\u001b[1;32m    161\u001b[0m     \u001b[0;32mtry\u001b[0m\u001b[0;34m:\u001b[0m\u001b[0;34m\u001b[0m\u001b[0;34m\u001b[0m\u001b[0m\n\u001b[0;32m--> 162\u001b[0;31m       \u001b[0;32mreturn\u001b[0m \u001b[0mfun\u001b[0m\u001b[0;34m(\u001b[0m\u001b[0;34m*\u001b[0m\u001b[0margs\u001b[0m\u001b[0;34m,\u001b[0m \u001b[0;34m**\u001b[0m\u001b[0mkwargs\u001b[0m\u001b[0;34m)\u001b[0m\u001b[0;34m\u001b[0m\u001b[0;34m\u001b[0m\u001b[0m\n\u001b[0m\u001b[1;32m    163\u001b[0m     \u001b[0;32mexcept\u001b[0m \u001b[0mException\u001b[0m \u001b[0;32mas\u001b[0m \u001b[0me\u001b[0m\u001b[0;34m:\u001b[0m\u001b[0;34m\u001b[0m\u001b[0;34m\u001b[0m\u001b[0m\n",
            "\u001b[0;32m/usr/local/lib/python3.7/dist-packages/jax/_src/api.py\u001b[0m in \u001b[0;36mvalue_and_grad_f\u001b[0;34m(*args, **kwargs)\u001b[0m\n\u001b[1;32m    868\u001b[0m     \u001b[0;32mfor\u001b[0m \u001b[0mleaf\u001b[0m \u001b[0;32min\u001b[0m \u001b[0mtree_leaves\u001b[0m\u001b[0;34m(\u001b[0m\u001b[0mdyn_args\u001b[0m\u001b[0;34m)\u001b[0m\u001b[0;34m:\u001b[0m\u001b[0;34m\u001b[0m\u001b[0;34m\u001b[0m\u001b[0m\n\u001b[0;32m--> 869\u001b[0;31m       \u001b[0m_check_input_dtype_grad\u001b[0m\u001b[0;34m(\u001b[0m\u001b[0mholomorphic\u001b[0m\u001b[0;34m,\u001b[0m \u001b[0mallow_int\u001b[0m\u001b[0;34m,\u001b[0m \u001b[0mleaf\u001b[0m\u001b[0;34m)\u001b[0m\u001b[0;34m\u001b[0m\u001b[0;34m\u001b[0m\u001b[0m\n\u001b[0m\u001b[1;32m    870\u001b[0m     \u001b[0;32mif\u001b[0m \u001b[0;32mnot\u001b[0m \u001b[0mhas_aux\u001b[0m\u001b[0;34m:\u001b[0m\u001b[0;34m\u001b[0m\u001b[0;34m\u001b[0m\u001b[0m\n",
            "\u001b[0;32m/usr/local/lib/python3.7/dist-packages/jax/_src/api.py\u001b[0m in \u001b[0;36m_check_input_dtype_revderiv\u001b[0;34m(name, holomorphic, allow_int, x)\u001b[0m\n\u001b[1;32m    908\u001b[0m                               dtypes.issubdtype(aval.dtype, np.complexfloating)):\n\u001b[0;32m--> 909\u001b[0;31m     raise TypeError(f\"{name} requires real- or complex-valued inputs (input dtype that \"\n\u001b[0m\u001b[1;32m    910\u001b[0m                     \u001b[0;34m\"is a sub-dtype of np.floating or np.complexfloating), \"\u001b[0m\u001b[0;34m\u001b[0m\u001b[0;34m\u001b[0m\u001b[0m\n",
            "\u001b[0;31mUnfilteredStackTrace\u001b[0m: TypeError: grad requires real- or complex-valued inputs (input dtype that is a sub-dtype of np.floating or np.complexfloating), but got int32. If you want to use integer-valued inputs, use vjp or set allow_int to True.\n\nThe stack trace below excludes JAX-internal frames.\nThe preceding is the original exception that occurred, unmodified.\n\n--------------------",
            "\nThe above exception was the direct cause of the following exception:\n",
            "\u001b[0;31mTypeError\u001b[0m                                 Traceback (most recent call last)",
            "\u001b[0;32m<ipython-input-18-c44ed6cff89c>\u001b[0m in \u001b[0;36m<module>\u001b[0;34m()\u001b[0m\n\u001b[1;32m      2\u001b[0m \u001b[0;31m# For integers, you have to make them into floats\u001b[0m\u001b[0;34m\u001b[0m\u001b[0;34m\u001b[0m\u001b[0;34m\u001b[0m\u001b[0m\n\u001b[1;32m      3\u001b[0m \u001b[0;31m# Or else you will get a TypeError\u001b[0m\u001b[0;34m\u001b[0m\u001b[0;34m\u001b[0m\u001b[0;34m\u001b[0m\u001b[0m\n\u001b[0;32m----> 4\u001b[0;31m \u001b[0mdf1\u001b[0m\u001b[0;34m(\u001b[0m\u001b[0;36m1\u001b[0m\u001b[0;34m)\u001b[0m\u001b[0;34m\u001b[0m\u001b[0;34m\u001b[0m\u001b[0m\n\u001b[0m",
            "\u001b[0;32m/usr/local/lib/python3.7/dist-packages/jax/_src/api.py\u001b[0m in \u001b[0;36m_check_input_dtype_revderiv\u001b[0;34m(name, holomorphic, allow_int, x)\u001b[0m\n\u001b[1;32m    907\u001b[0m   elif not allow_int and not (dtypes.issubdtype(aval.dtype, np.floating) or\n\u001b[1;32m    908\u001b[0m                               dtypes.issubdtype(aval.dtype, np.complexfloating)):\n\u001b[0;32m--> 909\u001b[0;31m     raise TypeError(f\"{name} requires real- or complex-valued inputs (input dtype that \"\n\u001b[0m\u001b[1;32m    910\u001b[0m                     \u001b[0;34m\"is a sub-dtype of np.floating or np.complexfloating), \"\u001b[0m\u001b[0;34m\u001b[0m\u001b[0;34m\u001b[0m\u001b[0m\n\u001b[1;32m    911\u001b[0m                     \u001b[0;34mf\"but got {aval.dtype.name}. If you want to use integer-valued \"\u001b[0m\u001b[0;34m\u001b[0m\u001b[0;34m\u001b[0m\u001b[0m\n",
            "\u001b[0;31mTypeError\u001b[0m: grad requires real- or complex-valued inputs (input dtype that is a sub-dtype of np.floating or np.complexfloating), but got int32. If you want to use integer-valued inputs, use vjp or set allow_int to True."
          ]
        }
      ]
    },
    {
      "cell_type": "code",
      "metadata": {
        "id": "33EneJpGtdxV"
      },
      "source": [
        "# We can get higher order derivatives\n",
        "df2=grad(df1) # df2=grad(grad(f))\n",
        "df3=grad(df2)"
      ],
      "execution_count": 19,
      "outputs": []
    },
    {
      "cell_type": "code",
      "metadata": {
        "id": "0xtiN0GftqnA",
        "colab": {
          "base_uri": "https://localhost:8080/",
          "height": 516
        },
        "outputId": "bea28920-f155-4cc6-f867-01f77f0d2e69"
      },
      "source": [
        "# Plot the four derivatives\n",
        "x=np.linspace(-3,3,100)\n",
        "plt.figure(figsize=(10,8))\n",
        "plt.plot(x,[float(df1(xx)) for xx in x],label='df1')\n",
        "plt.plot(x,[float(df2(xx)) for xx in x],label='df2')\n",
        "plt.plot(x,[float(df3(xx)) for xx in x],label='df3')\n",
        "plt.legend(loc='best')\n",
        "plt.ylim(-100,100)\n",
        "plt.title(\"1st, 2nd, 3rd derivatives of f\")"
      ],
      "execution_count": 20,
      "outputs": [
        {
          "output_type": "execute_result",
          "data": {
            "text/plain": [
              "Text(0.5, 1.0, '1st, 2nd, 3rd derivatives of f')"
            ]
          },
          "metadata": {},
          "execution_count": 20
        },
        {
          "output_type": "display_data",
          "data": {
            "image/png": "[encoded data removed]",
            "text/plain": [
              "<Figure size 720x576 with 1 Axes>"
            ]
          },
          "metadata": {
            "needs_background": "light"
          }
        }
      ]
    },
    {
      "cell_type": "markdown",
      "metadata": {
        "id": "rY4Ub_l-wMEa"
      },
      "source": [
        "### ```pmap()``` and ```vmap()```\n",
        "Please check the following references for more information:\n",
        "- ```pmap()```: https://jax.readthedocs.io/en/latest/jax-101/06-parallelism.html\n",
        "- ```vmap()```: https://jax.readthedocs.io/en/latest/jax-101/03-vectorization.html"
      ]
    }
  ]
}