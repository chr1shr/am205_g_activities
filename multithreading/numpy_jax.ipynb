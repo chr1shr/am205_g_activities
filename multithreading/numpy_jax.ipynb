{
  "nbformat": 4,
  "nbformat_minor": 0,
  "metadata": {
    "colab": {
      "name": "numpy_jax.ipynb",
      "provenance": [],
      "collapsed_sections": []
    },
    "kernelspec": {
      "name": "python3",
      "display_name": "Python 3"
    },
    "language_info": {
      "name": "python"
    },
    "accelerator": "GPU"
  },
  "cells": [
    {
      "cell_type": "markdown",
      "metadata": {
        "id": "tRjK2K2ImhPl"
      },
      "source": [
        "This notebook is supplementary to the AM205 \"Introduction to multithreading\" workshop. It covers the basics of how to use ```NumPy``` and ```JAX```.\n",
        "\n",
        "Notebook reference: https://jax.readthedocs.io/en/latest/notebooks/quickstart.html\n",
        "\n",
        "```JAX``` can be think of as an upgraded ```NumPy``` with automatic differentiation which runs on CPU, GPU and TPU. In the workshop we only covered multithreading on CPU and focused on one parallelization paradigm only (shared memory). If you are interested in making your Python code faster while doing machine learning related projects, then ```JAX``` may be a suitable candidate.\n",
        "\n",
        "In the spirit of time, the notebook will not be able to go any deeper into the library or demonstrate all useful functions. If you are interested, you can read more about ```JAX``` starting from these (much better) references:\n",
        "\n",
        "- Tutorial: JAX 101 https://jax.readthedocs.io/en/latest/jax-101/index.html\n",
        "- You don't know JAX: https://colinraffel.com/blog/you-don-t-know-jax.html\n",
        "- Introduction to JAX: https://www.youtube.com/watch?v=0mVmRHMaOJ4\n"
      ]
    },
    {
      "cell_type": "markdown",
      "metadata": {
        "id": "HwiiROOvBfRz"
      },
      "source": [
        "## Load modules"
      ]
    },
    {
      "cell_type": "code",
      "metadata": {
        "id": "aHMBUn_x9llU"
      },
      "source": [
        "import numpy as np\n",
        "import jax.numpy as jnp\n",
        "from jax import grad,jit,pmap,vmap\n",
        "from jax import random\n",
        "import matplotlib.pyplot as plt"
      ],
      "execution_count": 1,
      "outputs": []
    },
    {
      "cell_type": "markdown",
      "metadata": {
        "id": "BdRA2pmxBP9n"
      },
      "source": [
        "## What do we mean by vectorization?"
      ]
    },
    {
      "cell_type": "code",
      "metadata": {
        "id": "6y0-SrciJn51"
      },
      "source": [
        ""
      ],
      "execution_count": 1,
      "outputs": []
    },
    {
      "cell_type": "markdown",
      "metadata": {
        "id": "dSPJSrNhniOM"
      },
      "source": [
        "## Matrix multiplication\n",
        "\n",
        "According to the documentation, there are some differences in generating random numbers between the two libraries. For more details, see [Common Gotchas in JAX](https://jax.readthedocs.io/en/latest/notebooks/Common_Gotchas_in_JAX.html#%F0%9F%94%AA-Random-Numbers).\n"
      ]
    },
    {
      "cell_type": "code",
      "metadata": {
        "colab": {
          "base_uri": "https://localhost:8080/"
        },
        "id": "eIWGdVCbm_EH",
        "outputId": "094271bb-83a5-432a-81da-dfb504a193c4"
      },
      "source": [
        "# Ex.1 JAX random+dot\n",
        "jseed=random.PRNGKey(0)\n",
        "size=1000\n",
        "mat_a=random.normal(jseed,(size,size),dtype=jnp.float32)\n",
        "# Add block_until_ready() because JAX uses asynchronous execution by default\n",
        "# You can use GPU/TPU by changing the runtime type in\n",
        "# \"Runtime > Change runtime type > Hardware accelerator\"\n",
        "%timeit jnp.dot(mat_a,mat_a.T).block_until_ready() # runs on the GPU"
      ],
      "execution_count": 2,
      "outputs": [
        {
          "output_type": "stream",
          "name": "stdout",
          "text": [
            "The slowest run took 1146.29 times longer than the fastest. This could mean that an intermediate result is being cached.\n",
            "1 loop, best of 5: 1.88 ms per loop\n"
          ]
        }
      ]
    },
    {
      "cell_type": "code",
      "metadata": {
        "colab": {
          "base_uri": "https://localhost:8080/"
        },
        "id": "p0UoAHleG5Zu",
        "outputId": "b506f1f7-42de-4f1a-826d-b9488874e9ec"
      },
      "source": [
        "# Ex.2 NumPy random+dot\n",
        "nseed=np.random.seed(0)\n",
        "size=1000\n",
        "nmat= np.random.normal(size=(size, size)).astype(np.float32)\n",
        "%timeit np.dot(nmat,nmat.T)"
      ],
      "execution_count": 3,
      "outputs": [
        {
          "output_type": "stream",
          "name": "stdout",
          "text": [
            "100 loops, best of 5: 19 ms per loop\n"
          ]
        }
      ]
    },
    {
      "cell_type": "code",
      "metadata": {
        "colab": {
          "base_uri": "https://localhost:8080/"
        },
        "id": "xaZzYRLwHj9l",
        "outputId": "b4efba08-8af7-432d-ba6a-003e19ea5ad3"
      },
      "source": [
        "# Ex.3 NumPy random+JAX dot\n",
        "%timeit jnp.dot(nmat,nmat.T).block_until_ready()"
      ],
      "execution_count": 4,
      "outputs": [
        {
          "output_type": "stream",
          "name": "stdout",
          "text": [
            "100 loops, best of 5: 5.09 ms per loop\n"
          ]
        }
      ]
    },
    {
      "cell_type": "markdown",
      "metadata": {
        "id": "v4WcZFkyoEia"
      },
      "source": [
        "## Four main functions for faster performance\n",
        "- ```jit()```, for speeding up your code\n",
        "\n",
        "- ```grad()```, for taking derivatives\n",
        "\n",
        "- ```pmap()```, for running functions in parallel on multiple devices\n",
        "\n",
        "- ```vmap()```, for automatic vectorization or batching\n"
      ]
    },
    {
      "cell_type": "markdown",
      "metadata": {
        "id": "ApqE6H7xwC6g"
      },
      "source": [
        "### ```jit()``` for speeding up your code"
      ]
    },
    {
      "cell_type": "code",
      "metadata": {
        "id": "KOFpzc1znt1V"
      },
      "source": [
        ""
      ],
      "execution_count": 4,
      "outputs": []
    },
    {
      "cell_type": "markdown",
      "metadata": {
        "id": "KxUa9mvEsdQJ"
      },
      "source": [
        "### ```grad()``` for taking derivatives\n",
        "\n",
        "...whenever we want to speed up autograd and compute derivatives (_e.g._ activation function in training of some ML problems)"
      ]
    },
    {
      "cell_type": "code",
      "metadata": {
        "colab": {
          "base_uri": "https://localhost:8080/"
        },
        "id": "7gzql5uMnt5Q",
        "outputId": "9ec405a1-b1c4-44ce-fd66-85e38b05ab85"
      },
      "source": [
        "# A simple example of derivatives\n",
        "# e.g. f(x)=x^4+3x^2+x*exp(x)+log(x)\n",
        "def f(x):\n",
        "    return x**4+3*x**2+x*jnp.exp(x)+jnp.log(x)\n",
        "\n",
        "df1=grad(f)\n",
        "df1"
      ],
      "execution_count": 5,
      "outputs": [
        {
          "output_type": "execute_result",
          "data": {
            "text/plain": [
              "<function __main__.f>"
            ]
          },
          "metadata": {},
          "execution_count": 5
        }
      ]
    },
    {
      "cell_type": "code",
      "metadata": {
        "colab": {
          "base_uri": "https://localhost:8080/"
        },
        "id": "ZXiIyyb7nt7W",
        "outputId": "5693870f-f198-4ac6-af11-08fcb855a1d3"
      },
      "source": [
        "# You can get the value of the 1st derivative by putting in x values\n",
        "df1(1.0)"
      ],
      "execution_count": 6,
      "outputs": [
        {
          "output_type": "execute_result",
          "data": {
            "text/plain": [
              "DeviceArray(16.436563, dtype=float32)"
            ]
          },
          "metadata": {},
          "execution_count": 6
        }
      ]
    },
    {
      "cell_type": "code",
      "metadata": {
        "id": "DeXcHNcJ-xJ4",
        "colab": {
          "base_uri": "https://localhost:8080/"
        },
        "outputId": "d72b5386-4f7d-4902-d892-51a01c9272d4"
      },
      "source": [
        "# You can just get the value by using float()\n",
        "float(df1(1.0))"
      ],
      "execution_count": 7,
      "outputs": [
        {
          "output_type": "execute_result",
          "data": {
            "text/plain": [
              "16.43656349182129"
            ]
          },
          "metadata": {},
          "execution_count": 7
        }
      ]
    },
    {
      "cell_type": "code",
      "metadata": {
        "colab": {
          "base_uri": "https://localhost:8080/",
          "height": 528
        },
        "id": "cKI_5oPvtWJl",
        "outputId": "6ff2977f-c639-4004-e108-3e4a5e5d179e"
      },
      "source": [
        "# However, integer numbers do not work\n",
        "# For integers, you have to make them into floats\n",
        "# Or else you will get a TypeError\n",
        "df1(1)"
      ],
      "execution_count": 9,
      "outputs": [
        {
          "output_type": "error",
          "ename": "TypeError",
          "evalue": "ignored",
          "traceback": [
            "\u001b[0;31m---------------------------------------------------------------------------\u001b[0m",
            "\u001b[0;31mUnfilteredStackTrace\u001b[0m                      Traceback (most recent call last)",
            "\u001b[0;32m<ipython-input-9-c44ed6cff89c>\u001b[0m in \u001b[0;36m<module>\u001b[0;34m()\u001b[0m\n\u001b[1;32m      3\u001b[0m \u001b[0;31m# Or else you will get a TypeError\u001b[0m\u001b[0;34m\u001b[0m\u001b[0;34m\u001b[0m\u001b[0;34m\u001b[0m\u001b[0m\n\u001b[0;32m----> 4\u001b[0;31m \u001b[0mdf1\u001b[0m\u001b[0;34m(\u001b[0m\u001b[0;36m1\u001b[0m\u001b[0;34m)\u001b[0m\u001b[0;34m\u001b[0m\u001b[0;34m\u001b[0m\u001b[0m\n\u001b[0m",
            "\u001b[0;32m/usr/local/lib/python3.7/dist-packages/jax/_src/traceback_util.py\u001b[0m in \u001b[0;36mreraise_with_filtered_traceback\u001b[0;34m(*args, **kwargs)\u001b[0m\n\u001b[1;32m    161\u001b[0m     \u001b[0;32mtry\u001b[0m\u001b[0;34m:\u001b[0m\u001b[0;34m\u001b[0m\u001b[0;34m\u001b[0m\u001b[0m\n\u001b[0;32m--> 162\u001b[0;31m       \u001b[0;32mreturn\u001b[0m \u001b[0mfun\u001b[0m\u001b[0;34m(\u001b[0m\u001b[0;34m*\u001b[0m\u001b[0margs\u001b[0m\u001b[0;34m,\u001b[0m \u001b[0;34m**\u001b[0m\u001b[0mkwargs\u001b[0m\u001b[0;34m)\u001b[0m\u001b[0;34m\u001b[0m\u001b[0;34m\u001b[0m\u001b[0m\n\u001b[0m\u001b[1;32m    163\u001b[0m     \u001b[0;32mexcept\u001b[0m \u001b[0mException\u001b[0m \u001b[0;32mas\u001b[0m \u001b[0me\u001b[0m\u001b[0;34m:\u001b[0m\u001b[0;34m\u001b[0m\u001b[0;34m\u001b[0m\u001b[0m\n",
            "\u001b[0;32m/usr/local/lib/python3.7/dist-packages/jax/_src/api.py\u001b[0m in \u001b[0;36mgrad_f\u001b[0;34m(*args, **kwargs)\u001b[0m\n\u001b[1;32m    796\u001b[0m   \u001b[0;32mdef\u001b[0m \u001b[0mgrad_f\u001b[0m\u001b[0;34m(\u001b[0m\u001b[0;34m*\u001b[0m\u001b[0margs\u001b[0m\u001b[0;34m,\u001b[0m \u001b[0;34m**\u001b[0m\u001b[0mkwargs\u001b[0m\u001b[0;34m)\u001b[0m\u001b[0;34m:\u001b[0m\u001b[0;34m\u001b[0m\u001b[0;34m\u001b[0m\u001b[0m\n\u001b[0;32m--> 797\u001b[0;31m     \u001b[0m_\u001b[0m\u001b[0;34m,\u001b[0m \u001b[0mg\u001b[0m \u001b[0;34m=\u001b[0m \u001b[0mvalue_and_grad_f\u001b[0m\u001b[0;34m(\u001b[0m\u001b[0;34m*\u001b[0m\u001b[0margs\u001b[0m\u001b[0;34m,\u001b[0m \u001b[0;34m**\u001b[0m\u001b[0mkwargs\u001b[0m\u001b[0;34m)\u001b[0m\u001b[0;34m\u001b[0m\u001b[0;34m\u001b[0m\u001b[0m\n\u001b[0m\u001b[1;32m    798\u001b[0m     \u001b[0;32mreturn\u001b[0m \u001b[0mg\u001b[0m\u001b[0;34m\u001b[0m\u001b[0;34m\u001b[0m\u001b[0m\n",
            "\u001b[0;32m/usr/local/lib/python3.7/dist-packages/jax/_src/traceback_util.py\u001b[0m in \u001b[0;36mreraise_with_filtered_traceback\u001b[0;34m(*args, **kwargs)\u001b[0m\n\u001b[1;32m    161\u001b[0m     \u001b[0;32mtry\u001b[0m\u001b[0;34m:\u001b[0m\u001b[0;34m\u001b[0m\u001b[0;34m\u001b[0m\u001b[0m\n\u001b[0;32m--> 162\u001b[0;31m       \u001b[0;32mreturn\u001b[0m \u001b[0mfun\u001b[0m\u001b[0;34m(\u001b[0m\u001b[0;34m*\u001b[0m\u001b[0margs\u001b[0m\u001b[0;34m,\u001b[0m \u001b[0;34m**\u001b[0m\u001b[0mkwargs\u001b[0m\u001b[0;34m)\u001b[0m\u001b[0;34m\u001b[0m\u001b[0;34m\u001b[0m\u001b[0m\n\u001b[0m\u001b[1;32m    163\u001b[0m     \u001b[0;32mexcept\u001b[0m \u001b[0mException\u001b[0m \u001b[0;32mas\u001b[0m \u001b[0me\u001b[0m\u001b[0;34m:\u001b[0m\u001b[0;34m\u001b[0m\u001b[0;34m\u001b[0m\u001b[0m\n",
            "\u001b[0;32m/usr/local/lib/python3.7/dist-packages/jax/_src/api.py\u001b[0m in \u001b[0;36mvalue_and_grad_f\u001b[0;34m(*args, **kwargs)\u001b[0m\n\u001b[1;32m    868\u001b[0m     \u001b[0;32mfor\u001b[0m \u001b[0mleaf\u001b[0m \u001b[0;32min\u001b[0m \u001b[0mtree_leaves\u001b[0m\u001b[0;34m(\u001b[0m\u001b[0mdyn_args\u001b[0m\u001b[0;34m)\u001b[0m\u001b[0;34m:\u001b[0m\u001b[0;34m\u001b[0m\u001b[0;34m\u001b[0m\u001b[0m\n\u001b[0;32m--> 869\u001b[0;31m       \u001b[0m_check_input_dtype_grad\u001b[0m\u001b[0;34m(\u001b[0m\u001b[0mholomorphic\u001b[0m\u001b[0;34m,\u001b[0m \u001b[0mallow_int\u001b[0m\u001b[0;34m,\u001b[0m \u001b[0mleaf\u001b[0m\u001b[0;34m)\u001b[0m\u001b[0;34m\u001b[0m\u001b[0;34m\u001b[0m\u001b[0m\n\u001b[0m\u001b[1;32m    870\u001b[0m     \u001b[0;32mif\u001b[0m \u001b[0;32mnot\u001b[0m \u001b[0mhas_aux\u001b[0m\u001b[0;34m:\u001b[0m\u001b[0;34m\u001b[0m\u001b[0;34m\u001b[0m\u001b[0m\n",
            "\u001b[0;32m/usr/local/lib/python3.7/dist-packages/jax/_src/api.py\u001b[0m in \u001b[0;36m_check_input_dtype_revderiv\u001b[0;34m(name, holomorphic, allow_int, x)\u001b[0m\n\u001b[1;32m    908\u001b[0m                               dtypes.issubdtype(aval.dtype, np.complexfloating)):\n\u001b[0;32m--> 909\u001b[0;31m     raise TypeError(f\"{name} requires real- or complex-valued inputs (input dtype that \"\n\u001b[0m\u001b[1;32m    910\u001b[0m                     \u001b[0;34m\"is a sub-dtype of np.floating or np.complexfloating), \"\u001b[0m\u001b[0;34m\u001b[0m\u001b[0;34m\u001b[0m\u001b[0m\n",
            "\u001b[0;31mUnfilteredStackTrace\u001b[0m: TypeError: grad requires real- or complex-valued inputs (input dtype that is a sub-dtype of np.floating or np.complexfloating), but got int32. If you want to use integer-valued inputs, use vjp or set allow_int to True.\n\nThe stack trace below excludes JAX-internal frames.\nThe preceding is the original exception that occurred, unmodified.\n\n--------------------",
            "\nThe above exception was the direct cause of the following exception:\n",
            "\u001b[0;31mTypeError\u001b[0m                                 Traceback (most recent call last)",
            "\u001b[0;32m<ipython-input-9-c44ed6cff89c>\u001b[0m in \u001b[0;36m<module>\u001b[0;34m()\u001b[0m\n\u001b[1;32m      2\u001b[0m \u001b[0;31m# For integers, you have to make them into floats\u001b[0m\u001b[0;34m\u001b[0m\u001b[0;34m\u001b[0m\u001b[0;34m\u001b[0m\u001b[0m\n\u001b[1;32m      3\u001b[0m \u001b[0;31m# Or else you will get a TypeError\u001b[0m\u001b[0;34m\u001b[0m\u001b[0;34m\u001b[0m\u001b[0;34m\u001b[0m\u001b[0m\n\u001b[0;32m----> 4\u001b[0;31m \u001b[0mdf1\u001b[0m\u001b[0;34m(\u001b[0m\u001b[0;36m1\u001b[0m\u001b[0;34m)\u001b[0m\u001b[0;34m\u001b[0m\u001b[0;34m\u001b[0m\u001b[0m\n\u001b[0m",
            "\u001b[0;32m/usr/local/lib/python3.7/dist-packages/jax/_src/api.py\u001b[0m in \u001b[0;36m_check_input_dtype_revderiv\u001b[0;34m(name, holomorphic, allow_int, x)\u001b[0m\n\u001b[1;32m    907\u001b[0m   elif not allow_int and not (dtypes.issubdtype(aval.dtype, np.floating) or\n\u001b[1;32m    908\u001b[0m                               dtypes.issubdtype(aval.dtype, np.complexfloating)):\n\u001b[0;32m--> 909\u001b[0;31m     raise TypeError(f\"{name} requires real- or complex-valued inputs (input dtype that \"\n\u001b[0m\u001b[1;32m    910\u001b[0m                     \u001b[0;34m\"is a sub-dtype of np.floating or np.complexfloating), \"\u001b[0m\u001b[0;34m\u001b[0m\u001b[0;34m\u001b[0m\u001b[0m\n\u001b[1;32m    911\u001b[0m                     \u001b[0;34mf\"but got {aval.dtype.name}. If you want to use integer-valued \"\u001b[0m\u001b[0;34m\u001b[0m\u001b[0;34m\u001b[0m\u001b[0m\n",
            "\u001b[0;31mTypeError\u001b[0m: grad requires real- or complex-valued inputs (input dtype that is a sub-dtype of np.floating or np.complexfloating), but got int32. If you want to use integer-valued inputs, use vjp or set allow_int to True."
          ]
        }
      ]
    },
    {
      "cell_type": "code",
      "metadata": {
        "id": "33EneJpGtdxV"
      },
      "source": [
        "# We can get higher order derivatives\n",
        "df2=grad(df1) # df2=grad(grad(f))\n",
        "df3=grad(df2)"
      ],
      "execution_count": 10,
      "outputs": []
    },
    {
      "cell_type": "code",
      "metadata": {
        "id": "0xtiN0GftqnA",
        "colab": {
          "base_uri": "https://localhost:8080/",
          "height": 269
        },
        "outputId": "077944dd-4cf4-4585-f989-949bbbfb82ab"
      },
      "source": [
        "# Plot the four derivatives\n",
        "x=np.linspace(-3,3,100)\n",
        "plt.plot(x,[float(df1(xx)) for xx in x],label='df1')\n",
        "plt.plot(x,[float(df2(xx)) for xx in x],label='df2')\n",
        "plt.plot(x,[float(df3(xx)) for xx in x],label='df3')\n",
        "plt.legend(loc='best')\n",
        "plt.ylim(-100,100)\n",
        "plt.show()"
      ],
      "execution_count": 12,
      "outputs": [
        {
          "output_type": "display_data",
          "data": {
            "image/png": "[encoded data removed]",
            "text/plain": [
              "<Figure size 432x288 with 1 Axes>"
            ]
          },
          "metadata": {
            "needs_background": "light"
          }
        }
      ]
    },
    {
      "cell_type": "markdown",
      "metadata": {
        "id": "rY4Ub_l-wMEa"
      },
      "source": [
        "### ```pmap()``` and ```vmap()```\n",
        "Please check the following references for more information:\n",
        "- ```pmap()```: https://jax.readthedocs.io/en/latest/jax-101/06-parallelism.html\n",
        "- ```vmap()```: https://jax.readthedocs.io/en/latest/jax-101/03-vectorization.html"
      ]
    }
  ]
}