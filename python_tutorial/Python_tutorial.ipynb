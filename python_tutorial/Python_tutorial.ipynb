{
  "nbformat": 4,
  "nbformat_minor": 0,
  "metadata": {
    "colab": {
      "name": "Python tutorial.ipynb",
      "provenance": [],
      "collapsed_sections": [],
      "include_colab_link": true
    },
    "kernelspec": {
      "name": "python3",
      "display_name": "Python 3"
    }
  },
  "cells": [
    {
      "cell_type": "markdown",
      "metadata": {
        "id": "view-in-github",
        "colab_type": "text"
      },
      "source": [
        "<a href=\"https://colab.research.google.com/github/chr1shr/am205_g_activities/blob/master/python_tutorial/Python_tutorial.ipynb\" target=\"_parent\"><img src=\"https://colab.research.google.com/assets/colab-badge.svg\" alt=\"Open In Colab\"/></a>"
      ]
    },
    {
      "cell_type": "markdown",
      "metadata": {
        "id": "jsz7X--K7RGA"
      },
      "source": [
        "# Python Tutorial\n",
        "Here we will cover some programming basics in Python that will be useful throughout the course.\n",
        "### **Working in a Google Colab python notebook**\n",
        "During this tutorial, we'll be demoing code examples using Google Colab, a cloud-based free Jupyter notebook environment. The notebooks can be downloaded to run locally as well (go to File->Download .ipynb) if you have the ```jupyter notebook``` package installed with your Python installation.\n",
        "\n",
        "To run a code cell in Google Colab, first select the code cell anywhere with your cursor. You will see a \"play\" button appear on the left margin of the cell. You may execute the cell by clicking the button, or by typing any of the following shortcuts: Shift+Enter, Command+Enter, Ctrl+Enter.\n",
        "Test running the following cell:"
      ]
    },
    {
      "cell_type": "code",
      "metadata": {
        "id": "fRemN-2h7KQE"
      },
      "source": [
        "pi = 22/7\n",
        "print(\"{} is an approximation for pi.\".format(pi))"
      ],
      "execution_count": null,
      "outputs": []
    },
    {
      "cell_type": "markdown",
      "metadata": {
        "id": "jWMww0X38CRu"
      },
      "source": [
        "### **A quick note about notebooks**\n",
        "Notebooks are a useful way to organize and annotate code especially for demos, support $\\LaTeX$ for writing mathematical expressions, and allow code to be executed in smaller blocks (cells) that can help to simplify a large program. However, you'll see code examples throughout the course primarily as ```.py``` scripts executed via terminal, which is typically our preferred environment for easily and efficiently running programs. However, for this demo and if you choose to use notebooks later on, there are a couple of important points to keep in mind:\n",
        "- The block structure allows code to be run out of order, so be careful that you've executed your cells in order from top to bottom.\n",
        "- Variables, objects, and functions you define persist throughout your notebook while your session is active, even if you delete the cell(s) that defined them. If you want to delete or rename a variable, make sure you update its occurrences throughout the notebook. You can restart your runtime and run all cells to check for any undefined variables."
      ]
    },
    {
      "cell_type": "markdown",
      "metadata": {
        "id": "gpf4-jf9CLPS"
      },
      "source": [
        "### **Python syntax**\n",
        "Let's start by reviewing fundamentals of Python syntax.\n",
        "Below are examples of defining variables, composing basic mathematical operations, and printing values:"
      ]
    },
    {
      "cell_type": "code",
      "metadata": {
        "id": "15UE6lrg78zj"
      },
      "source": [
        "x = 9; y = 7\n",
        "x += y           # modify x in place.\n",
        "print(x)\n",
        "\n",
        "p = x / y        # regular floating point division.\n",
        "q = x // y       # integer division.\n",
        "print(p, q)\n",
        "\n",
        "a = x**2         # raising to a power is performed by **\n",
        "b = x**-0.25\n",
        "print(a, b)"
      ],
      "execution_count": null,
      "outputs": []
    },
    {
      "cell_type": "markdown",
      "metadata": {
        "id": "57Cmcv-ZCpg4"
      },
      "source": [
        "### **Lists, loops, and iteration**\n",
        "Lists are a general ordered set whose entries can store values, strings, other lists, objects, etc., and are defined using brackets ```[]```. Lists **do not** always behave the same way as ```numpy``` arrays (which we will get to later) and do not follow the same conventions with algebraic operations."
      ]
    },
    {
      "cell_type": "code",
      "metadata": {
        "id": "D5ScPG9kCf1U"
      },
      "source": [
        "list1 = [1, 4]\n",
        "list2 = [9, 16, 25]\n",
        "sq = list1 + list2      # Addition concatenates lists together\n",
        "sq2 = 2*sq              # Multiplication multiplies the list length, not the values stored!\n",
        "print(sq)\n",
        "print(sq2)\n",
        "\n",
        "# add the squares using sum:\n",
        "sum_sq = sum(sq)\n",
        "print(\"Sum of squares: {}\".format(sum_sq))\n",
        "\n",
        "# sort using sorted:\n",
        "sort_sq = sorted(sq2)\n",
        "print(\"Sorted double squares: {}\".format(sort_sq))"
      ],
      "execution_count": null,
      "outputs": []
    },
    {
      "cell_type": "markdown",
      "metadata": {
        "id": "So9-LWNpbAnB"
      },
      "source": [
        "Indexing and slicing:\n",
        "\n",
        "Python indexing starts from 0, and the last valid index for a list or array of length $N$ is ```N-1```. In addition, Python supports negative indexing, so that the index ```-1``` returns the last entry of the list, ```-2``` the second to last, and so on.\n",
        "\n",
        "A slice of a list or array is specified by colon-separated values as ```start:stop:skip```. Starting at zero, stopping at the end, and skipping by 1 are implied if any of these values is omitted, as shown in the examples below."
      ]
    },
    {
      "cell_type": "code",
      "metadata": {
        "id": "fLK7vNsPbLOp"
      },
      "source": [
        "first = sq2[0]         # Zero indexes the first entry.\n",
        "last = sq2[len(sq2)-1] # The last index is the length of the list minus 1.\n",
        "last = sq2[-1]         # Or, we can use negative indexing, which starts from the end.\n",
        "\n",
        "f5 = sq2[:5]  # First five elements\n",
        "l3 = sq[-3:]  # Last three elements\n",
        "sl = sq2[3:6] # An interior slice. Slicing is exclusive of the last index, but it\n",
        "             # allows us to easily calculate the number of entries in the slice.\n",
        "             # Here, we include entries with indices 3,4,5, for a total of (6-3)=3.\n",
        "\n",
        "a = sq2[:]   # All\n",
        "e2 = sq2[::2] # Every two\n",
        "al = sq2[:-1] # All but the last\n",
        "\n",
        "print(\"First:\", first)\n",
        "print(\"Last:\", last)\n",
        "print(\"First five:\", f5)\n",
        "print(\"Last three:\", l3)\n",
        "print(\"Interior slice:\", sl)\n",
        "print(\"All:\", a)\n",
        "print(\"Every two:\", e2)\n",
        "print(\"All but last:\", al)"
      ],
      "execution_count": null,
      "outputs": []
    },
    {
      "cell_type": "markdown",
      "metadata": {
        "id": "F0onCgdfIFw9"
      },
      "source": [
        "How could we use slicing to quickly reverse the order of a list?"
      ]
    },
    {
      "cell_type": "code",
      "metadata": {
        "id": "YaP016zDvtwk"
      },
      "source": [
        "# your code here"
      ],
      "execution_count": null,
      "outputs": []
    },
    {
      "cell_type": "markdown",
      "metadata": {
        "id": "HG3X9bCRDFv6"
      },
      "source": [
        "A ```for``` loop can be used to iterate over values in a list. The syntax is ```for <iterator> in <sequence>:``` followed by an indented line below. There are a few different ways to iterate:"
      ]
    },
    {
      "cell_type": "code",
      "metadata": {
        "id": "rb7DWhGlCuOa"
      },
      "source": [
        "# range(N) for integer N generates a sequence 0, 1, ... N-1 for our iterator\n",
        "# i to take on. More generally, you can specify range(start, stop).\n",
        "for i in range(len(sq)): \n",
        "  print(i, sq[i])\n",
        "\n",
        "# another equivalent way is to use the enumerate syntax to achieve the same as above\n",
        "# i is the index that picks up each element in the list sq. \n",
        "for i,square in enumerate(sq):\n",
        "  print(i, square)\n",
        "\n",
        "\n",
        "# Lists are sequences, so our iterator can take on the list values\n",
        "# directly. But, we do not have a counter.\n",
        "for square in sq:\n",
        "  print(\"The square is {}\".format(square))\n",
        "\n",
        "# Use enumerate to iterate over values while also incrementing a counter:\n",
        "for i,square in enumerate(sq):\n",
        "    print(\"{} squared is {}\".format(i+1,square))"
      ],
      "execution_count": null,
      "outputs": []
    },
    {
      "cell_type": "markdown",
      "metadata": {
        "id": "vhOirj67Sq6I"
      },
      "source": [
        "Loops provide a quick way to create lists as well using list comprehension:"
      ]
    },
    {
      "cell_type": "code",
      "metadata": {
        "id": "EzxBrOxXSuGY"
      },
      "source": [
        "sq = [i**2 for i in range(1,6)]\n",
        "print(sq)"
      ],
      "execution_count": null,
      "outputs": []
    },
    {
      "cell_type": "markdown",
      "metadata": {
        "id": "8AWtd5pVPZrc"
      },
      "source": [
        "### ***Exercise #1a: Binary to decimal conversion***\n",
        "Consider a list whose entries are interpreted as the digits of a binary number. For example, the list ```[1,1,0]``` represents the binary number $110$. Below, write a short script which converts such a binary representation to its corresponding decimal (base 10) number. As an example, the binary number 110 is\n",
        "\n",
        "$$\n",
        "(1)2^2 + (1)2^1 + (0)2^0 = 6\n",
        "$$\n",
        "\n",
        "in base 10. Test your routine for the following cases:\n",
        "\n",
        "$$\n",
        "\\begin{align}\n",
        "b &= 011 \\quad(3)\\\\\n",
        "b &= 101 \\quad(5)\\\\\n",
        "b &= 111111 \\quad(63)\\\\\n",
        "b &= 101010 \\quad(42)\n",
        "\\end{align}\n",
        "$$\n",
        "\n",
        "Try to write your routine generally for any length list. We will package this routine into a function later."
      ]
    },
    {
      "cell_type": "code",
      "metadata": {
        "id": "Cu4ugw7o22Y-"
      },
      "source": [
        "# your code here"
      ],
      "execution_count": null,
      "outputs": []
    },
    {
      "cell_type": "markdown",
      "metadata": {
        "id": "D1Jvo0IVCq67"
      },
      "source": [
        "Assigning a second variable to the same list **does not** create a new copy the list - both variables will refer to the same object in memory (this is true for ```numpy``` arrays as well). Be careful, as this could lead to unwanted changes to the list!"
      ]
    },
    {
      "cell_type": "code",
      "metadata": {
        "id": "wfAso8qUDEUg"
      },
      "source": [
        "# first list\n",
        "a = [1, 2, 3]\n",
        "b = a # assign a to b\n",
        "print(\"b = a\\n a: {}; b: {}\".format(a, b))\n",
        "\n",
        "# modify b:\n",
        "b[0] = 4\n",
        "print(\"modify b - changes a\\n a: {}; b: {}\".format(a, b)) # both lists have changed\n",
        "\n",
        "# create a new list of three zeros:\n",
        "c = 3*[0]\n",
        "c[:] = a[:] # copy all values of a into c. Now, c does not reference the same object as a.\n",
        "print(\"c[:] = a[:]\\n a: {}; c: {}\".format(a, c))\n",
        "\n",
        "# modify c:\n",
        "c[2] = 5\n",
        "print(\"modify c - a unchanged\\n a: {}; c: {}\".format(a, c)) # a has not changed\n",
        "\n",
        "# One way to ensure an object and any contained objects are copied:\n",
        "import copy\n",
        "d = copy.deepcopy(a)"
      ],
      "execution_count": null,
      "outputs": []
    },
    {
      "cell_type": "markdown",
      "metadata": {
        "id": "aU9jqZZtESvB"
      },
      "source": [
        "### **Formatted printing**\n",
        "The braces ```{}``` in our print statements are placeholders replaced by values of the variables listed after ```.format```. We can specify explicit formatting in the braces as follows:"
      ]
    },
    {
      "cell_type": "code",
      "metadata": {
        "id": "AV0LIaJ6DNoJ"
      },
      "source": [
        "# format an integer:\n",
        "print(\"{:d} is an approximation for pi.\".format(3))\n",
        "\n",
        "# format a float (default precision):\n",
        "print(\"{:f} is an approximation for pi.\".format(22/7))\n",
        "\n",
        "# specify a minimum of 3 total digits of precision,\n",
        "# with 2 of them after the decimal:\n",
        "print(\"{:3.2f} is an approximation for pi.\".format(22/7))\n",
        "\n",
        "# use scientific notation:\n",
        "sun_mass = 1.989e30\n",
        "print(\"The mass of the sun is approximately {:2.1e} kg.\".format(sun_mass))"
      ],
      "execution_count": null,
      "outputs": []
    },
    {
      "cell_type": "markdown",
      "metadata": {
        "id": "1YJ2LMATIVRO"
      },
      "source": [
        "### **Functions and conditionals**\n",
        "Functions are defined using the syntax ```def```, and one or more values can be returned via ```return```. The function name and arguments are followed by a colon, and the function definition should be indented.\n",
        "\n",
        "Conditional statements ```if```, ```elif```, and ```else``` are also followed by a colon, and the line below should be indented. Indentation matters!"
      ]
    },
    {
      "cell_type": "code",
      "metadata": {
        "id": "IQKBRZilD3qD"
      },
      "source": [
        "# return whether a number is positive, negative, or zero.\n",
        "def sign(a=5):\n",
        "  if a>0:\n",
        "    return 'positive'\n",
        "  elif a<0:\n",
        "    return 'negative'\n",
        "  else:\n",
        "    return 'zero'\n",
        "\n",
        "# test:\n",
        "x = 5\n",
        "print(\"{} is {}.\".format(x, sign(x)))\n",
        "y = -2.7\n",
        "print(\"{} is {}.\".format(y, sign(y)))\n",
        "z = 0\n",
        "print(\"{} is {}.\".format(z, sign(z)))\n",
        "\n",
        "print(sign())"
      ],
      "execution_count": null,
      "outputs": []
    },
    {
      "cell_type": "markdown",
      "metadata": {
        "id": "rHBIIyfLmNQ7"
      },
      "source": [
        "### ***Exercise #1b: A cellular automaton***\n",
        "First, package your binary to decimal routine from Exercise 1a into a function, ```bin2dec```, which accepts a list as an argument and returns its decimal representation.\n",
        "\n",
        "<p>... &#x25EF &#x25C9 &#x25C9 &#x25EF &#x25EF &#x25C9 &#x25EF &#x25C9 &#x25EF &#x25EF &#x25C9 ...</p>\n",
        "\n",
        "Next, consider a 1-D system of $N$ cells like the graphic above, whose state $s$ is represented by a 1 (on) or 0 (off). The state of each cell evolves in time according to a rule that depends on the states of the cell and its two nearest neighbors. Define the \"neighborhood\" of the $i^{th}$ cell as the triplet of current states $[s_{i-1}, s_i, s_{i+1}]$ of the cell's left neighbor, itself, and its right neighbor. Thus, all possible configurations of a cell's neighborhood are the set of 3-digit binary numbers: 000, 001, 010, 011, 100, 101, 110, 111. The new state of the cell is determined by the decimal representation of the neighborhood, as follows:\n",
        "\n",
        "| Neighborhood | 0 | 1 | 2 | 3 | 4 | 5 | 6 | 7 |\n",
        "|--------------|---|---|---|---|---|---|---|---|\n",
        "| New state    | 0 | 1 | 0 | 0 | 1 | 0 | 0 | 0 |\n",
        "\n",
        "Write a routine which initializes a system of $N=101$ cells, with only the middle cell initially on. Step the state of each cell forward in time according to the above neighborhood rules for $T=50$ steps, using periodic boundary conditions to determine neighborhoods of the first and last cell. How many cells are 'on' after the final step?\n",
        "\n",
        "In our final extension of this exercise, we will visualize the sequence of cell states as an image."
      ]
    },
    {
      "cell_type": "markdown",
      "metadata": {
        "id": "Syx7oJSfUOFZ"
      },
      "source": [
        "### **Scientific computing with ```numpy```**\n",
        "Matrices and linear algebra make up a significant part of scientific computing. ```Numpy``` is a fundamental Python library for such computations. We will use it to work efficiently with arrays and matrices, generate random numbers, and have access to common trigonometric functions and special constants. Let's look at a few simple examples."
      ]
    },
    {
      "cell_type": "code",
      "metadata": {
        "id": "VLzwWUg9QAI4"
      },
      "source": [
        "import numpy as np # import numpy library and give it an alias (short name)\n",
        "\n",
        "# create a 1-D array of zeros of length n. By default, the values are considered floats.\n",
        "n = 5\n",
        "x = np.zeros(n)\n",
        "\n",
        "# create a 1-D array of ones, of integer type:\n",
        "y = np.ones(n, dtype=np.int)\n",
        "\n",
        "# create n evenly-spaced values on [a,b], inclusive of endpoints:\n",
        "a = 1; b = 5\n",
        "s = np.linspace(a, b, n)\n",
        "\n",
        "# we can also create evenly-spaced values on a logarithmic scale:\n",
        "g = np.logspace(a, b, n) # n logarithmically spaced values from 10^a to 10^b.\n",
        "\n",
        "# create a 2-D diagonal matrix, with s on the diagonal:\n",
        "d = np.diag(s)\n",
        "\n",
        "# seed the random number generator, for reproducible results,\n",
        "# then create an array of random numbers.\n",
        "np.random.seed(12) \n",
        "r = np.random.random(n) # generate n random numbers on the interval [0,1).\n",
        "\n",
        "# use trig functions and built in pi.\n",
        "t = np.cos(4*np.pi*r)\n",
        "\n",
        "print(\"Zeros:\", x)\n",
        "print(\"Ones:\", y)\n",
        "print(\"Evenly spaced:\", s)\n",
        "print(\"Diagonal:\\n\", d)\n",
        "print(\"Random:\", r)\n",
        "print(\"Trig:\", t)"
      ],
      "execution_count": null,
      "outputs": []
    },
    {
      "cell_type": "markdown",
      "metadata": {
        "id": "3TXSiTqNKvS7"
      },
      "source": [
        "The following are commonly used attributes of ```numpy``` arrays. Notice the distinction between the shapes of a 1-dimensional array, and a 2-dimensional array with a single column. The difference is important when trying to perform certain operations on matrices which require the dimensions to match."
      ]
    },
    {
      "cell_type": "code",
      "metadata": {
        "id": "76k_H_PtKzyf"
      },
      "source": [
        "# Access the number of dimensions with .ndim:\n",
        "x = np.zeros(3); y = np.zeros((3,1)); z = np.zeros((3,3))\n",
        "print(\"x is {:d} dimensional; y is {:d} dimensional; z is {:d} dimensional.\".format(x.ndim, y.ndim, z.ndim))\n",
        "\n",
        "# Access the size of each dimension with .shape:\n",
        "print(\"x has shape {}; y has shape {}; z has shape {}.\".format(x.shape, y.shape, z.shape))\n",
        "\n",
        "# we can reshape x to be 2-dimensional. Here, we specify that we want one column,\n",
        "# and indicate -1 for the number of rows, which is interpreted as whatever the\n",
        "# number of rows needs to be in order for x to have a single column.\n",
        "x = x.reshape((-1,1))\n",
        "print(\"x now has shape {}.\".format(x.shape))"
      ],
      "execution_count": null,
      "outputs": []
    },
    {
      "cell_type": "markdown",
      "metadata": {
        "id": "hKpymmyJZVks"
      },
      "source": [
        "### **Matrix Operations**\n",
        "The standard addition/subtraction, multiplication/division operators act *element-wise* on matrices. Traditional matrix-matrix or matrix-vector multiplication can be performed via ```numpy.dot```: "
      ]
    },
    {
      "cell_type": "code",
      "metadata": {
        "id": "DPNOzDOONZWF"
      },
      "source": [
        "x = 2*np.ones((2,2)); y = 3*np.ones((2,2))\n",
        "print(\"x =\\n\",x)\n",
        "print(\"y =\\n\",y)\n",
        "print(\"x + y =\\n\",x + y)\n",
        "print(\"x * y =\\n\",x * y)\n",
        "print(\"np.dot(x, y) =\\n\",np.dot(x, y))"
      ],
      "execution_count": null,
      "outputs": []
    },
    {
      "cell_type": "markdown",
      "metadata": {
        "id": "O8H7x1LaO1i_"
      },
      "source": [
        "The following are a few more useful operations to know when working with ```numpy``` arrays:"
      ]
    },
    {
      "cell_type": "code",
      "metadata": {
        "id": "_PeAyaF9ZGwy"
      },
      "source": [
        "# Initialize a 3x3 matrix by its values:\n",
        "A = np.array([[-3,0,2],\n",
        "              [1,-4,0],\n",
        "              [0,6,-2]])\n",
        "\n",
        "# Add A and its transpose, obtaining a symmetric matrix:\n",
        "S = A + A.T\n",
        "\n",
        "# Compute the eigenvalues and eigenvectors of a symmetric matrix:\n",
        "evals, evecs = np.linalg.eigh(S)\n",
        "\n",
        "# Find the largest and smallest eigenvalue:\n",
        "emin, emax = np.min(evals), np.max(evals) # this is a multiple-assignment statement.\n",
        "\n",
        "# Dot two eigenvectors (columns):\n",
        "d = np.dot(evecs[:,0], evecs[:,1]) # notice syntax of indexing in each dimension.\n",
        "\n",
        "print(\"A:\\n\", A)\n",
        "print(\"S:\\n\", S)\n",
        "print(\"eigenvalues:\", evals)\n",
        "print(\"Min eigenvalue: {:.4f}\".format(emin))\n",
        "print(\"Max eigenvalue: {:.4f}\".format(emax))\n",
        "print(\"eigenvectors:\\n\", evecs)\n",
        "print(\"dot:\", d)"
      ],
      "execution_count": null,
      "outputs": []
    },
    {
      "cell_type": "markdown",
      "metadata": {
        "id": "Hx5PuI0EUYqQ"
      },
      "source": [
        "### **Plotting**\n",
        "The ```matplotlib``` library provides tools for plotting data, and we import the module ```pyplot``` under the alias ```plt``` for short. Specific to notebooks, in order to display our plots inline, we also need to add a \"magic\" command ```%matplotlib inline```."
      ]
    },
    {
      "cell_type": "code",
      "metadata": {
        "id": "W54mjJ0JZ-h5"
      },
      "source": [
        "%matplotlib inline\n",
        "import matplotlib.pyplot as plt"
      ],
      "execution_count": null,
      "outputs": []
    },
    {
      "cell_type": "markdown",
      "metadata": {
        "id": "Fj4krKVKWOvE"
      },
      "source": [
        "Let's generate and plot some example curves."
      ]
    },
    {
      "cell_type": "code",
      "metadata": {
        "id": "rub3efK_WGT-"
      },
      "source": [
        "theta = np.linspace(0, 8*np.pi, 200) # 200 evenly-spaced values on [0, 8*pi]\n",
        "cos = np.cos(theta)\n",
        "sin = np.sin(theta)\n",
        "\n",
        "# create a figure with a single subplot. ax is the axis object.\n",
        "fig, ax = plt.subplots(1,1, figsize=(7,4))\n",
        "ax.plot(theta, cos, color='b', label='$\\cos(\\\\theta)$') # Can use Latex-style math mode for labels (though there are some differences).\n",
        "ax.plot(theta, sin, color='r', label='$\\sin(\\\\theta)$', linestyle='dashed') # Here we also changed the linestyle.\n",
        "\n",
        "ax.set_xlabel(\"$\\\\theta$\", size=16)\n",
        "ax.set_ylabel(\"$f(\\\\theta)$\", size=16)\n",
        "ax.tick_params(labelsize=14) # increase tick label size\n",
        "\n",
        "ax.legend(loc='lower right', fontsize=14)\n",
        "plt.show() # display the plot"
      ],
      "execution_count": null,
      "outputs": []
    },
    {
      "cell_type": "markdown",
      "metadata": {
        "id": "WxbQHosMeHJh"
      },
      "source": [
        "A scatter plot, with logarithmic axes:"
      ]
    },
    {
      "cell_type": "code",
      "metadata": {
        "id": "LGJKMXqteFKe"
      },
      "source": [
        "h = np.logspace(-4, 0, 20) # 20 logarithmically spaced values from 10^-4 to 10^0\n",
        "y = 1e-10 * h**-1\n",
        "\n",
        "fig, ax = plt.subplots(1,1, figsize=(7,4))\n",
        "ax.scatter(h, y, marker='o', color='b', zorder=3) # higher z order places scatter on top.\n",
        "\n",
        "# set logarithmic scales on each axis:\n",
        "ax.set_xscale('log')\n",
        "ax.set_yscale('log')\n",
        "ax.grid(which='both') # use to turn on both major and minor grid lines.\n",
        "\n",
        "# a note: the minor grid may not display, if the major ticks jump more than one decade/\n",
        "# the grid would become too crowded.\n",
        "\n",
        "ax.tick_params(labelsize=14)\n",
        "plt.show()"
      ],
      "execution_count": null,
      "outputs": []
    },
    {
      "cell_type": "markdown",
      "metadata": {
        "id": "Y6xGXxlNYLKq"
      },
      "source": [
        "We can also visualize 2-D arrays as images:"
      ]
    },
    {
      "cell_type": "code",
      "metadata": {
        "id": "8zsQeiE6W0FI"
      },
      "source": [
        "x = np.linspace(-1, 1, 100)\n",
        "y = np.linspace(-1, 1, 100)\n",
        "X, Y = np.meshgrid(x, y) # a meshgrid tiles the 1-D x array into a 2-D array of identical rows,\n",
        "                         # and tiles the 1-D y array into a 2-D array of identical columns,\n",
        "                         # producing 2 matrices which store the x and y coordinates, respectively,\n",
        "                         # for the entire grid.\n",
        "\n",
        "# Evaluate two different functions on the 2D grid. Each of the operations below\n",
        "# act element-wise on the matrix entries of X and Y.\n",
        "Z = np.sqrt(X**2 + Y**2)\n",
        "W = (1 - (X**2 + Y**3))*np.exp(-(X**2 + Y**2))\n",
        "\n",
        "# Create two plots side by side on the same figure.\n",
        "fig, (ax1, ax2) = plt.subplots(1,2, figsize=(12,5))\n",
        "im1 = ax1.imshow(Z, cmap=plt.cm.viridis) # specify a named colormap (see https://matplotlib.org/3.1.1/gallery/color/colormap_reference.html)\n",
        "ax1.axis('off')                          # turn off axis markings\n",
        "\n",
        "# add a colorbar, specifying to which object colors correspond, and\n",
        "# next to which axes it should be placed.\n",
        "cbar1 = fig.colorbar(im1, ax=ax1)\n",
        "cbar1.set_label('$Z(x,y)$')\n",
        "\n",
        "# the default origin for imshow is in the *upper* left, as matrix column index increases going down,\n",
        "# but we can set it to lower left to reflect that our y values increase going up.\n",
        "im2 = ax2.imshow(W, cmap=plt.cm.plasma, origin='lower')\n",
        "ax2.axis('off')\n",
        "cbar2 = fig.colorbar(im2, ax=ax2)\n",
        "cbar2.set_label('$W(x,y)$')\n",
        "\n",
        "plt.show()"
      ],
      "execution_count": null,
      "outputs": []
    },
    {
      "cell_type": "markdown",
      "metadata": {
        "id": "dWnMKzrbtoDx"
      },
      "source": [
        "### ***Exercise #1c: Cellular automaton revisited***\n",
        "Revisit the 1-D cell system of Exercise #1b. Adjust your routine so that each new state of the system is stored as the next row in a 2-D ```numpy``` array of type ```np.int```. Rerun the short simulation of $N=101$ cells for $T=50$ steps and plot the 2-D array as an image. Do you recognize the resulting structure?\n",
        "\n",
        "**Optional Extra:** The 8-digit neighborhood rule for advancing the cellular automaton in this example is one of $2^8=256$ possible combinations (see: https://mathworld.wolfram.com/ElementaryCellularAutomaton.html). Since each rule looks like an 8-digit binary number, it is named according to *its* decimal representation (Note the least significant bit corresponds to the update for a neighborhood of 0, and the most significant bit corresponds to a neighborhood of 7, so in our example, $00010010_2 =$ Rule 18). Check that your routine is set up to easily substitute different rules, then test a few other combinations. You can also vary the initial condition; for example, initialize each cell randomly as $0$ or $1$. "
      ]
    },
    {
      "cell_type": "code",
      "metadata": {
        "id": "6cd_QlOD2_Yz"
      },
      "source": [
        "# your code here"
      ],
      "execution_count": null,
      "outputs": []
    },
    {
      "cell_type": "markdown",
      "metadata": {
        "id": "5sXRCBQ41kXy"
      },
      "source": [
        "### ***Exercise #2: Breaking a rod to form a triangle***\n",
        "Consider a rod of unit length broken at two random points to produce three pieces. By simulating $N=100,000$ such breaking events, estimate the probability that the three pieces form the side lengths of a valid triangle.\n",
        "\n",
        "In addition, measure the time elapsed for $N$ simulations by importing the package ```time```. ```t = time.time()``` returns the time in seconds since January 1, 1970, 00:00:00 (UTC)."
      ]
    },
    {
      "cell_type": "markdown",
      "metadata": {
        "id": "E8zIn99xwiz0"
      },
      "source": [
        "### ***Exercise #3: Generalized Mandelbrot fractal***\n",
        "The Mandelbrot set is the set of complex numbers $c$ which remains bounded under the discrete quadratic map\n",
        "\n",
        "$$\n",
        "z_{n+1} = z_{n}^2 + c\n",
        "$$\n",
        "\n",
        "where $c$ is a complex parameter, and the (complex) initial condition $z_0 = 0 + 0i$. A generalization of the Mandelbrot set is the set of complex numbers $c$ which remain bounded under a polynomial map\n",
        "\n",
        "$$\n",
        "z_{n+1} = z_{n}^p + c\n",
        "$$\n",
        "\n",
        "for a specified order $p$, likewise for initial condition $z_0 = 0 + 0i$. For various values of $c$, write a program which counts the number of iterations of the polynomial map needed before the orbit becomes unbounded. Define unbounded as the condition when\n",
        "\n",
        "$$\n",
        "|z| \\geq R\n",
        "$$\n",
        "\n",
        "for a specified orbit radius $R$, and terminate iteration of the map either when the escape condition is met, or a maximum number of iterations is reached. Run your program for an $n\\times{n}$ grid of evenly spaced values of $c$ in complex space, for $n$ at least $500$, where $\\text{Re}[c]$ ranges from $[-1.5,1]$, and $\\text{Im}[c]$ ranges from $[-1.25,1.25]$, and use the following parameters: escape radius $R=10$, maximum iterations $=1000$, polynomial order $p=4$. Plot the grid of iteration counts as an image.\n",
        "\n",
        "**Hints:**\n",
        "1. Use ```complex(a, b)``` to define a complex number $z = a + bi$. Complex numbers obey all standard arithmetic operations we've covered.\n",
        "2. The magnitude of a complex number can be obtained via the absolute value, ```np.abs(z)```.\n",
        "3. You may want to use a smaller grid while testing and/or debugging.\n",
        "4. You can use $p=2$ to test if your code produces the expected results for the classic Mandelbrot set.\n"
      ]
    },
    {
      "cell_type": "markdown",
      "metadata": {
        "id": "Eh0-pIzivU1T"
      },
      "source": [
        "**Optional Extras on Mandelbrot for your interest:**\n",
        "\n",
        "Note that for the Mandelbrot set, we always pick the same $z_0 = 0 + 0i$ and allow the complex number $c$ to vary. One might for instance be interested in switching $c$ and $z_0$ in this equation, thus picking a fixed complex value for $c$ and allowing $z_0$ to vary. The two dimensional subsection of $z_0$ for which the iterative formula does not diverge, is then called a [Julia set](https://en.wikipedia.org/wiki/Julia_set). \n",
        "\n",
        "This means that for each $c$, you can generate a Julia set, and the most interesting ones are usually when $c$ is chosen close to the Mandelbrot boundary. Extend your routine to find the Julia set for the following choices of $c$:\n",
        "\n",
        "$$\n",
        "\\begin{aligned}\n",
        "c &= -0.1 + 0.65i \\\\\n",
        "c &= -0.4 + 0.6i \\\\\n",
        "c &= -0.8 + 0.156i\n",
        "\\end{aligned}\n",
        "$$\n",
        "\n",
        "Note you may need to increase your domain for $z_0$ to $[-1.5,1.5]$ in both real and imaginary components to capture the full pattern."
      ]
    }
  ]
}